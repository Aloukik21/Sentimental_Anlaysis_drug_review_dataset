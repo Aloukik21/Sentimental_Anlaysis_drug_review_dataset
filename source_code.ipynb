{
 "cells": [
  {
   "cell_type": "markdown",
   "metadata": {},
   "source": [
    "# Review Sentiment Analysis and Rating Prediction on DrugReview Dataset"
   ]
  },
  {
   "cell_type": "code",
   "execution_count": 2,
   "metadata": {
    "pycharm": {
     "is_executing": false
    }
   },
   "outputs": [
    {
     "name": "stdout",
     "output_type": "stream",
     "text": [
      "Setup Done..\n"
     ]
    }
   ],
   "source": [
    "import matplotlib.pyplot as plt\n",
    "import pandas as pd\n",
    "import numpy as np\n",
    "import math\n",
    "from sklearn.feature_extraction.text import TfidfVectorizer\n",
    "from sklearn.ensemble import RandomForestClassifier\n",
    "from sklearn.metrics import confusion_matrix\n",
    "import review_preprocess\n",
    "import summarize_review\n",
    "from matplotlib import pyplot as plt\n",
    "from sklearn.preprocessing import OneHotEncoder,LabelEncoder\n",
    "from keras.models import Sequential\n",
    "from keras.layers import Dense, Activation, Dropout, BatchNormalization\n",
    "from keras.optimizers import Adam\n",
    "from keras.callbacks import EarlyStopping, ReduceLROnPlateau\n",
    "import keras\n",
    "import nltk\n",
    "from nltk.sentiment.vader import SentimentIntensityAnalyzer\n",
    "from xgboost import  XGBClassifier\n",
    "from sklearn.metrics import accuracy_score\n",
    "\n",
    "print(\"Setup Done..\")"
   ]
  },
  {
   "cell_type": "markdown",
   "metadata": {},
   "source": [
    "## Loading our data_set\n",
    "- please change path according to your directory"
   ]
  },
  {
   "cell_type": "code",
   "execution_count": 3,
   "metadata": {},
   "outputs": [],
   "source": [
    "train_file_name = 'drugsComTrain_raw.csv'\n",
    "test_file_name = 'drugsComTest_raw.csv'\n",
    "file_path = './data/'\n",
    "\n",
    "df_test = pd.read_csv(file_path+test_file_name)\n",
    "df_train = pd.read_csv(file_path+train_file_name)"
   ]
  },
  {
   "cell_type": "markdown",
   "metadata": {},
   "source": [
    "## Our data set Description\n",
    "- the dataset was generated using web crawlers\n",
    "- the dataset consists of DrugName, condition and a review column along with rating\n",
    "- For example : if condition of patient is Obesity , then the drug prescribed to him is Contrave"
   ]
  },
  {
   "cell_type": "code",
   "execution_count": 4,
   "metadata": {},
   "outputs": [
    {
     "data": {
      "text/plain": [
       "uniqueID                                                   39795\n",
       "drugName                                                Contrave\n",
       "condition                                                Obesity\n",
       "review         \"I am just finishing my second week taking Con...\n",
       "rating                                                         8\n",
       "date                                                    4-Nov-15\n",
       "usefulCount                                                    9\n",
       "Name: 41, dtype: object"
      ]
     },
     "execution_count": 4,
     "metadata": {},
     "output_type": "execute_result"
    }
   ],
   "source": [
    "#Print one example row of dataset\n",
    "df_train[df_train.condition == 'Obesity'].iloc[1]"
   ]
  },
  {
   "cell_type": "code",
   "execution_count": 5,
   "metadata": {},
   "outputs": [
    {
     "data": {
      "text/html": [
       "<div>\n",
       "<style scoped>\n",
       "    .dataframe tbody tr th:only-of-type {\n",
       "        vertical-align: middle;\n",
       "    }\n",
       "\n",
       "    .dataframe tbody tr th {\n",
       "        vertical-align: top;\n",
       "    }\n",
       "\n",
       "    .dataframe thead th {\n",
       "        text-align: right;\n",
       "    }\n",
       "</style>\n",
       "<table border=\"1\" class=\"dataframe\">\n",
       "  <thead>\n",
       "    <tr style=\"text-align: right;\">\n",
       "      <th></th>\n",
       "      <th>uniqueID</th>\n",
       "      <th>drugName</th>\n",
       "      <th>condition</th>\n",
       "      <th>review</th>\n",
       "      <th>rating</th>\n",
       "      <th>date</th>\n",
       "      <th>usefulCount</th>\n",
       "    </tr>\n",
       "  </thead>\n",
       "  <tbody>\n",
       "    <tr>\n",
       "      <th>0</th>\n",
       "      <td>206461</td>\n",
       "      <td>Valsartan</td>\n",
       "      <td>Left Ventricular Dysfunction</td>\n",
       "      <td>\"It has no side effect, I take it in combinati...</td>\n",
       "      <td>9</td>\n",
       "      <td>20-May-12</td>\n",
       "      <td>27</td>\n",
       "    </tr>\n",
       "    <tr>\n",
       "      <th>1</th>\n",
       "      <td>95260</td>\n",
       "      <td>Guanfacine</td>\n",
       "      <td>ADHD</td>\n",
       "      <td>\"My son is halfway through his fourth week of ...</td>\n",
       "      <td>8</td>\n",
       "      <td>27-Apr-10</td>\n",
       "      <td>192</td>\n",
       "    </tr>\n",
       "    <tr>\n",
       "      <th>2</th>\n",
       "      <td>92703</td>\n",
       "      <td>Lybrel</td>\n",
       "      <td>Birth Control</td>\n",
       "      <td>\"I used to take another oral contraceptive, wh...</td>\n",
       "      <td>5</td>\n",
       "      <td>14-Dec-09</td>\n",
       "      <td>17</td>\n",
       "    </tr>\n",
       "    <tr>\n",
       "      <th>3</th>\n",
       "      <td>138000</td>\n",
       "      <td>Ortho Evra</td>\n",
       "      <td>Birth Control</td>\n",
       "      <td>\"This is my first time using any form of birth...</td>\n",
       "      <td>8</td>\n",
       "      <td>3-Nov-15</td>\n",
       "      <td>10</td>\n",
       "    </tr>\n",
       "    <tr>\n",
       "      <th>4</th>\n",
       "      <td>35696</td>\n",
       "      <td>Buprenorphine / naloxone</td>\n",
       "      <td>Opiate Dependence</td>\n",
       "      <td>\"Suboxone has completely turned my life around...</td>\n",
       "      <td>9</td>\n",
       "      <td>27-Nov-16</td>\n",
       "      <td>37</td>\n",
       "    </tr>\n",
       "  </tbody>\n",
       "</table>\n",
       "</div>"
      ],
      "text/plain": [
       "   uniqueID                  drugName                     condition  \\\n",
       "0    206461                 Valsartan  Left Ventricular Dysfunction   \n",
       "1     95260                Guanfacine                          ADHD   \n",
       "2     92703                    Lybrel                 Birth Control   \n",
       "3    138000                Ortho Evra                 Birth Control   \n",
       "4     35696  Buprenorphine / naloxone             Opiate Dependence   \n",
       "\n",
       "                                              review  rating       date  \\\n",
       "0  \"It has no side effect, I take it in combinati...       9  20-May-12   \n",
       "1  \"My son is halfway through his fourth week of ...       8  27-Apr-10   \n",
       "2  \"I used to take another oral contraceptive, wh...       5  14-Dec-09   \n",
       "3  \"This is my first time using any form of birth...       8   3-Nov-15   \n",
       "4  \"Suboxone has completely turned my life around...       9  27-Nov-16   \n",
       "\n",
       "   usefulCount  \n",
       "0           27  \n",
       "1          192  \n",
       "2           17  \n",
       "3           10  \n",
       "4           37  "
      ]
     },
     "execution_count": 5,
     "metadata": {},
     "output_type": "execute_result"
    }
   ],
   "source": [
    "df_train.head()"
   ]
  },
  {
   "cell_type": "markdown",
   "metadata": {},
   "source": [
    "## PreProcess DataSet:\n",
    "\n",
    "- What Pre-process does?\n",
    "        - It removes rows with NA values (we decided to remove since\n",
    "            the number of such rows is ver less)\n",
    "        - It replaces garbage characters (( &#039; ,!,?,  &quot; , \\r \\n )) \n",
    "            with appropriate values\n",
    "        - It then returns cleaned dataframe"
   ]
  },
  {
   "cell_type": "code",
   "execution_count": 5,
   "metadata": {},
   "outputs": [
    {
     "data": {
      "text/plain": [
       "'\"Ive been on Methadone for over ten years and currently,I am trying to get off of this drug. Ive been decreasing my does 2 mgs per month for over a year. I am at 3 mgs and really starting to feel the withdraw.I don&#039;t plan to get my next 30 doses.because its almost rediculous how little it does for me. I have 3 does doses of 3 mg and Im terrified. Can anyone give me some truthful encouragement?.....\"'"
      ]
     },
     "execution_count": 5,
     "metadata": {},
     "output_type": "execute_result"
    }
   ],
   "source": [
    "# Print a review before cleaning\n",
    "df_test.review[8]"
   ]
  },
  {
   "cell_type": "code",
   "execution_count": 6,
   "metadata": {},
   "outputs": [
    {
     "name": "stdout",
     "output_type": "stream",
     "text": [
      "Review cleanup Completed...aracters from review column--> 100.0 percentage complete\n",
      "Removing row with nan values\n",
      "Percentage of nan rows in dataset--> 0.55 %\n",
      "Removed 295 rows with na values\n",
      "Review cleanup Completed...aracters from review column--> 100.0 percentage complete\n",
      "Removing row with nan values\n",
      "Percentage of nan rows in dataset--> 0.56 %\n",
      "Removed 899 rows with na values\n"
     ]
    }
   ],
   "source": [
    "df_test = review_preprocess.clean_reviews(df_test)\n",
    "df_train = review_preprocess.clean_reviews(df_train)"
   ]
  },
  {
   "cell_type": "code",
   "execution_count": 7,
   "metadata": {},
   "outputs": [
    {
     "data": {
      "text/plain": [
       "\"'Ive been on Methadone for over ten years and currently I am trying to get off of this drug. Ive been decreasing my does 2 mgs per month for over a year. I am at 3 mgs and really starting to feel the withdraw.I don't plan to get my next 30 doses.because its almost rediculous how little it does for me. I have 3 does doses of 3 mg and Im terrified. Can anyone give me some truthful encouragement  .'\""
      ]
     },
     "execution_count": 7,
     "metadata": {},
     "output_type": "execute_result"
    }
   ],
   "source": [
    "# Print a review after cleaning\n",
    "df_test.review[8]"
   ]
  },
  {
   "cell_type": "markdown",
   "metadata": {},
   "source": [
    "# Summarize our review.\n",
    "- After Cleaning our review , we try to summarize it"
   ]
  },
  {
   "cell_type": "code",
   "execution_count": 8,
   "metadata": {},
   "outputs": [
    {
     "name": "stdout",
     "output_type": "stream",
     "text": [
      "Number of processors using:  15\n",
      "starting summarization of training set\n",
      "Summarization of training set COMPLETE....\n",
      "starting summarization of test set\n",
      "Summarization of test set COMPLETE....\n",
      "CPU times: user 3.13 s, sys: 2.06 s, total: 5.19 s\n",
      "Wall time: 3min 44s\n"
     ]
    }
   ],
   "source": [
    "%%time\n",
    "import multiprocessing as mp\n",
    "\n",
    "print(\"Number of processors using: \", mp.cpu_count()-1)\n",
    "pool = mp.Pool(mp.cpu_count()-1)\n",
    "rows,_ = df_train.shape\n",
    "\n",
    "\n",
    "print(\"starting summarization of training set\")\n",
    "summary_v=np.vectorize(summarize_review.summarize)\n",
    "short_review = pool.map(summary_v, df_train.review.values)\n",
    "pool.close()\n",
    "print(\"Summarization of training set COMPLETE....\")\n",
    "\n",
    "print(\"starting summarization of test set\")\n",
    "pool = mp.Pool(mp.cpu_count())\n",
    "short_review_test = pool.map(summary_v, df_test.review.values)\n",
    "pool.close()\n",
    "print(\"Summarization of test set COMPLETE....\")\n",
    "\n",
    "\n",
    "df_train[\"summarize\"] = np.array(short_review)\n",
    "df_test[\"summarize\"] = np.array(short_review_test)"
   ]
  },
  {
   "cell_type": "code",
   "execution_count": 9,
   "metadata": {},
   "outputs": [
    {
     "name": "stdout",
     "output_type": "stream",
     "text": [
      "-------original review-------\n",
      "'Holy Hell is exactly how I feel. I had been taking Brisdelle for 1.5 years. The hot flashes did indeed subside - however  the side affects of this medicine coupled with the fact Noven was acquired by YET another pharmaceutical company - YOU CAN'T PLACE A REP IN THE AREA  DISTRIBUTE YOUR DRUGS  AND THEN FIRE HER-AND NOT REPLACE THEREFORE there is NO medicine or support here. You dumped this drug in the Dr's hands and walked away. After calling Sebula - you act like you don't even care. You have made it impossible to obtain this. I happen to think this is illegal.  I just decided to wean myself off this and Premarin. It has been nothing short of a nightmare. If you don't need this drug- DON'T START. Seriously.'\n",
      "\n",
      "\n",
      "-------summarized review-------\n",
      " You have made it impossible to obtain this. I happen to think this is illegal. I just decided to wean myself off this and Premarin. It has been nothing short of a nightmare. If you don't need this drug- DON'T START. Seriously.'\n"
     ]
    }
   ],
   "source": [
    "print('-------original review-------')\n",
    "print(df_test.review[10])\n",
    "print('\\n')\n",
    "print('-------summarized review-------')\n",
    "print(df_test.summarize[10])"
   ]
  },
  {
   "cell_type": "markdown",
   "metadata": {},
   "source": [
    "# Creating Sentiment column\n",
    "- We create a sentiment column using Vader-SentimentIntensityAnalyzer\n",
    "- More details on Vader analyzer are in report\n",
    "- We use it to generate ground_truth for sentiment prediction from our models."
   ]
  },
  {
   "cell_type": "code",
   "execution_count": 10,
   "metadata": {},
   "outputs": [
    {
     "name": "stdout",
     "output_type": "stream",
     "text": [
      "CPU times: user 2min 51s, sys: 0 ns, total: 2min 51s\n",
      "Wall time: 2min 51s\n"
     ]
    }
   ],
   "source": [
    "%%time\n",
    "\n",
    "import nltk\n",
    "from nltk.sentiment.vader import SentimentIntensityAnalyzer\n",
    "\n",
    "sid = SentimentIntensityAnalyzer()\n",
    "# Create list (cast to array) of compound polarity sentiment scores for reviews\n",
    "sentiments = []\n",
    "for i in df_train.summarize:\n",
    "    if sid.polarity_scores(i).get('compound') < -0.5 :\n",
    "        sentiments.append('negative')\n",
    "    elif sid.polarity_scores(i).get('compound') < 0.5 :\n",
    "        sentiments.append('neutral')\n",
    "    elif sid.polarity_scores(i).get('compound') <= 1 :\n",
    "        sentiments.append('positive')\n",
    "\n",
    "sentiments_test = []\n",
    "for i in df_test.summarize:\n",
    "    if sid.polarity_scores(i).get('compound') < -0.5 :\n",
    "        sentiments_test.append('negative')\n",
    "    elif sid.polarity_scores(i).get('compound') < 0.5 :\n",
    "        sentiments_test.append('neutral')\n",
    "    elif sid.polarity_scores(i).get('compound') <= 1 :\n",
    "        sentiments_test.append('positive')\n",
    "\n",
    "sentiments_test = np.array(sentiments_test)\n",
    "sentiments = np.array(sentiments)\n",
    "\n",
    "df_train[\"sentiment\"] = sentiments\n",
    "df_test[\"sentiment\"] = sentiments_test"
   ]
  },
  {
   "cell_type": "code",
   "execution_count": 11,
   "metadata": {},
   "outputs": [
    {
     "data": {
      "text/html": [
       "<div>\n",
       "<style scoped>\n",
       "    .dataframe tbody tr th:only-of-type {\n",
       "        vertical-align: middle;\n",
       "    }\n",
       "\n",
       "    .dataframe tbody tr th {\n",
       "        vertical-align: top;\n",
       "    }\n",
       "\n",
       "    .dataframe thead th {\n",
       "        text-align: right;\n",
       "    }\n",
       "</style>\n",
       "<table border=\"1\" class=\"dataframe\">\n",
       "  <thead>\n",
       "    <tr style=\"text-align: right;\">\n",
       "      <th></th>\n",
       "      <th>uniqueID</th>\n",
       "      <th>drugName</th>\n",
       "      <th>condition</th>\n",
       "      <th>review</th>\n",
       "      <th>rating</th>\n",
       "      <th>date</th>\n",
       "      <th>usefulCount</th>\n",
       "      <th>summarize</th>\n",
       "      <th>sentiment</th>\n",
       "    </tr>\n",
       "  </thead>\n",
       "  <tbody>\n",
       "    <tr>\n",
       "      <th>0</th>\n",
       "      <td>206461</td>\n",
       "      <td>Valsartan</td>\n",
       "      <td>Left Ventricular Dysfunction</td>\n",
       "      <td>'It has no side effect  I take it in combinati...</td>\n",
       "      <td>9</td>\n",
       "      <td>20-May-12</td>\n",
       "      <td>27</td>\n",
       "      <td>'It has no side effect  I take it in combinat...</td>\n",
       "      <td>neutral</td>\n",
       "    </tr>\n",
       "    <tr>\n",
       "      <th>1</th>\n",
       "      <td>95260</td>\n",
       "      <td>Guanfacine</td>\n",
       "      <td>ADHD</td>\n",
       "      <td>'My son is halfway through his fourth week of ...</td>\n",
       "      <td>8</td>\n",
       "      <td>27-Apr-10</td>\n",
       "      <td>192</td>\n",
       "      <td>See how he did at school  and with getting up...</td>\n",
       "      <td>positive</td>\n",
       "    </tr>\n",
       "    <tr>\n",
       "      <th>2</th>\n",
       "      <td>92703</td>\n",
       "      <td>Lybrel</td>\n",
       "      <td>Birth Control</td>\n",
       "      <td>'I used to take another oral contraceptive  wh...</td>\n",
       "      <td>5</td>\n",
       "      <td>14-Dec-09</td>\n",
       "      <td>17</td>\n",
       "      <td>And the period lasted for two weeks. When tak...</td>\n",
       "      <td>positive</td>\n",
       "    </tr>\n",
       "    <tr>\n",
       "      <th>3</th>\n",
       "      <td>138000</td>\n",
       "      <td>Ortho Evra</td>\n",
       "      <td>Birth Control</td>\n",
       "      <td>'This is my first time using any form of birth...</td>\n",
       "      <td>8</td>\n",
       "      <td>3-Nov-15</td>\n",
       "      <td>10</td>\n",
       "      <td>'This is my first time using any form of birt...</td>\n",
       "      <td>neutral</td>\n",
       "    </tr>\n",
       "    <tr>\n",
       "      <th>4</th>\n",
       "      <td>35696</td>\n",
       "      <td>Buprenorphine / naloxone</td>\n",
       "      <td>Opiate Dependence</td>\n",
       "      <td>'Suboxone has completely turned my life around...</td>\n",
       "      <td>9</td>\n",
       "      <td>27-Nov-16</td>\n",
       "      <td>37</td>\n",
       "      <td>All that is history. Slight constipation is a...</td>\n",
       "      <td>positive</td>\n",
       "    </tr>\n",
       "  </tbody>\n",
       "</table>\n",
       "</div>"
      ],
      "text/plain": [
       "   uniqueID                  drugName                     condition  \\\n",
       "0    206461                 Valsartan  Left Ventricular Dysfunction   \n",
       "1     95260                Guanfacine                          ADHD   \n",
       "2     92703                    Lybrel                 Birth Control   \n",
       "3    138000                Ortho Evra                 Birth Control   \n",
       "4     35696  Buprenorphine / naloxone             Opiate Dependence   \n",
       "\n",
       "                                              review  rating       date  \\\n",
       "0  'It has no side effect  I take it in combinati...       9  20-May-12   \n",
       "1  'My son is halfway through his fourth week of ...       8  27-Apr-10   \n",
       "2  'I used to take another oral contraceptive  wh...       5  14-Dec-09   \n",
       "3  'This is my first time using any form of birth...       8   3-Nov-15   \n",
       "4  'Suboxone has completely turned my life around...       9  27-Nov-16   \n",
       "\n",
       "   usefulCount                                          summarize sentiment  \n",
       "0           27   'It has no side effect  I take it in combinat...   neutral  \n",
       "1          192   See how he did at school  and with getting up...  positive  \n",
       "2           17   And the period lasted for two weeks. When tak...  positive  \n",
       "3           10   'This is my first time using any form of birt...   neutral  \n",
       "4           37   All that is history. Slight constipation is a...  positive  "
      ]
     },
     "execution_count": 11,
     "metadata": {},
     "output_type": "execute_result"
    }
   ],
   "source": [
    "# How our dataset looks like\n",
    "df_train.head()"
   ]
  },
  {
   "cell_type": "markdown",
   "metadata": {},
   "source": [
    "# Vectorizing our review column\n",
    "\n",
    "### - why vectorize?\n",
    "       1). Our Review column contains reviews of different lengths\n",
    "           We do this to convert each review into same size (dimensions).\n",
    "       \n",
    "       2). Vectorizing involves Tokenizing and then padding each sentence sequence.\n",
    "           We have aprox. 49K unique words in our review column so,\n",
    "           the number of features should be around 49K after vectorizing.\n",
    "       \n",
    "### - TF-IDF vectorizer :\n",
    "- we have used TF-IDF vectorizer . More Details about TF-IDF are present in the Project Report\n",
    "- It can be considered as the helper function which helps us vectorizing reveiws."
   ]
  },
  {
   "cell_type": "code",
   "execution_count": 12,
   "metadata": {},
   "outputs": [
    {
     "name": "stdout",
     "output_type": "stream",
     "text": [
      "Vectorizing done\n"
     ]
    }
   ],
   "source": [
    "# Creates TF-IDF vectorizer and transforms the corpus\n",
    "vectorizer = TfidfVectorizer()\n",
    "X_train = vectorizer.fit_transform(df_train.review)\n",
    "\n",
    "# transforms test reviews to above vectorized format\n",
    "X_test = vectorizer.transform(df_test.review)\n",
    "print(\"Vectorizing done\")"
   ]
  },
  {
   "cell_type": "code",
   "execution_count": 13,
   "metadata": {},
   "outputs": [
    {
     "name": "stdout",
     "output_type": "stream",
     "text": [
      "Vectorizing done\n"
     ]
    }
   ],
   "source": [
    "# Creates TF-IDF vectorizer and transforms the corpus\n",
    "vectorizer_sum = TfidfVectorizer()\n",
    "X_train_summary = vectorizer_sum.fit_transform(df_train.summarize)\n",
    "\n",
    "# transforms test reviews to above vectorized format\n",
    "X_test_summary = vectorizer_sum.transform(df_test.summarize)\n",
    "print(\"Vectorizing done\")"
   ]
  },
  {
   "cell_type": "code",
   "execution_count": 14,
   "metadata": {},
   "outputs": [
    {
     "name": "stdout",
     "output_type": "stream",
     "text": [
      "Test Shape :  (53471, 49853)\n",
      "Train Shape : (160398, 49853)\n",
      "We can see that every review intest and train Dataset have equal number of features now\n"
     ]
    }
   ],
   "source": [
    "print(\"Test Shape : \",X_test.shape)\n",
    "print(\"Train Shape :\",X_train.shape)\n",
    "print(\"We can see that every review in\\\n",
    "test and train Dataset have equal number of features now\")"
   ]
  },
  {
   "cell_type": "code",
   "execution_count": 15,
   "metadata": {},
   "outputs": [
    {
     "name": "stdout",
     "output_type": "stream",
     "text": [
      "Test Shape :  (53471, 29209)\n",
      "Train Shape : (160398, 29209)\n",
      "We can see that every review intest and train Dataset have equal number of features now\n"
     ]
    }
   ],
   "source": [
    "print(\"Test Shape : \",X_test_summary.shape)\n",
    "print(\"Train Shape :\",X_train_summary.shape)\n",
    "print(\"We can see that every review in\\\n",
    "test and train Dataset have equal number of features now\")"
   ]
  },
  {
   "cell_type": "markdown",
   "metadata": {},
   "source": [
    "## The number of features are reduced in summary .\n",
    "- The number of features in summary are 29209\n",
    "- Number of features in original reviews are 49853"
   ]
  },
  {
   "cell_type": "code",
   "execution_count": 16,
   "metadata": {},
   "outputs": [],
   "source": [
    "# Assign labels y_train and y_test\n",
    "y_train = df_train.rating.copy(deep=True)\n",
    "y_test = df_test.rating.copy(deep=True)\n"
   ]
  },
  {
   "cell_type": "markdown",
   "metadata": {},
   "source": [
    "# Train our models to predict Rating\n",
    "- we train our models on full review and summary of review "
   ]
  },
  {
   "cell_type": "markdown",
   "metadata": {},
   "source": [
    "## Random Forest Classifier\n",
    "- we have performed a grid seach to obtain optimal number of trees and m (number of features per tree)"
   ]
  },
  {
   "cell_type": "code",
   "execution_count": 17,
   "metadata": {},
   "outputs": [
    {
     "name": "stderr",
     "output_type": "stream",
     "text": [
      "[Parallel(n_jobs=-1)]: Using backend ThreadingBackend with 16 concurrent workers.\n"
     ]
    },
    {
     "name": "stdout",
     "output_type": "stream",
     "text": [
      "building tree 1 of 20\n",
      "building tree 2 of 20\n",
      "building tree 3 of 20\n",
      "building tree 4 of 20\n",
      "building tree 5 of 20\n",
      "building tree 6 of 20\n",
      "building tree 7 of 20\n",
      "building tree 8 of 20\n",
      "building tree 9 of 20\n",
      "building tree 10 of 20\n",
      "building tree 11 of 20\n",
      "building tree 12 of 20\n",
      "building tree 13 of 20\n",
      "building tree 14 of 20\n",
      "building tree 15 of 20\n",
      "building tree 16 of 20\n",
      "building tree 17 of 20\n",
      "building tree 18 of 20\n",
      "building tree 19 of 20\n"
     ]
    },
    {
     "name": "stderr",
     "output_type": "stream",
     "text": [
      "[Parallel(n_jobs=-1)]: Done   3 out of  20 | elapsed:   23.5s remaining:  2.2min\n"
     ]
    },
    {
     "name": "stdout",
     "output_type": "stream",
     "text": [
      "building tree 20 of 20\n"
     ]
    },
    {
     "name": "stderr",
     "output_type": "stream",
     "text": [
      "[Parallel(n_jobs=-1)]: Done  10 out of  20 | elapsed:   23.7s remaining:   23.7s\n",
      "[Parallel(n_jobs=-1)]: Done  17 out of  20 | elapsed:   38.6s remaining:    6.8s\n",
      "[Parallel(n_jobs=-1)]: Done  20 out of  20 | elapsed:   38.9s finished\n",
      "[Parallel(n_jobs=16)]: Using backend ThreadingBackend with 16 concurrent workers.\n",
      "[Parallel(n_jobs=16)]: Done   3 out of  20 | elapsed:    0.1s remaining:    0.6s\n",
      "[Parallel(n_jobs=16)]: Done  10 out of  20 | elapsed:    0.1s remaining:    0.1s\n",
      "[Parallel(n_jobs=16)]: Done  17 out of  20 | elapsed:    0.2s remaining:    0.0s\n",
      "[Parallel(n_jobs=16)]: Done  20 out of  20 | elapsed:    0.2s finished\n",
      "[Parallel(n_jobs=-1)]: Using backend ThreadingBackend with 16 concurrent workers.\n"
     ]
    },
    {
     "name": "stdout",
     "output_type": "stream",
     "text": [
      "building tree 1 of 50\n",
      "building tree 2 of 50\n",
      "building tree 3 of 50\n",
      "building tree 4 of 50\n",
      "building tree 5 of 50\n",
      "building tree 6 of 50\n",
      "building tree 7 of 50\n",
      "building tree 8 of 50\n",
      "building tree 9 of 50\n",
      "building tree 10 of 50\n",
      "building tree 11 of 50\n",
      "building tree 12 of 50\n",
      "building tree 13 of 50\n",
      "building tree 14 of 50\n",
      "building tree 15 of 50\n",
      "building tree 16 of 50\n",
      "building tree 17 of 50\n",
      "building tree 18 of 50\n",
      "building tree 19 of 50\n",
      "building tree 20 of 50\n",
      "building tree 21 of 50\n",
      "building tree 22 of 50\n",
      "building tree 23 of 50\n",
      "building tree 24 of 50\n",
      "building tree 25 of 50\n",
      "building tree 26 of 50\n",
      "building tree 27 of 50\n",
      "building tree 28 of 50\n",
      "building tree 29 of 50\n",
      "building tree 30 of 50\n",
      "building tree 31 of 50\n",
      "building tree 32 of 50\n",
      "building tree 33 of 50\n",
      "building tree 34 of 50\n",
      "building tree 35 of 50\n",
      "building tree 36 of 50\n",
      "building tree 37 of 50\n",
      "building tree 38 of 50\n",
      "building tree 39 of 50\n",
      "building tree 40 of 50\n",
      "building tree 41 of 50\n",
      "building tree 42 of 50\n",
      "building tree 43 of 50\n",
      "building tree 44 of 50\n",
      "building tree 45 of 50\n",
      "building tree 46 of 50\n",
      "building tree 47 of 50\n",
      "building tree 48 of 50\n",
      "building tree 49 of 50building tree 50 of 50\n",
      "\n"
     ]
    },
    {
     "name": "stderr",
     "output_type": "stream",
     "text": [
      "[Parallel(n_jobs=-1)]: Done  36 out of  50 | elapsed:  1.2min remaining:   27.4s\n",
      "[Parallel(n_jobs=-1)]: Done  50 out of  50 | elapsed:  1.4min finished\n",
      "[Parallel(n_jobs=16)]: Using backend ThreadingBackend with 16 concurrent workers.\n",
      "[Parallel(n_jobs=16)]: Done  36 out of  50 | elapsed:    0.3s remaining:    0.1s\n",
      "[Parallel(n_jobs=16)]: Done  50 out of  50 | elapsed:    0.4s finished\n",
      "[Parallel(n_jobs=-1)]: Using backend ThreadingBackend with 16 concurrent workers.\n"
     ]
    },
    {
     "name": "stdout",
     "output_type": "stream",
     "text": [
      "building tree 1 of 100building tree 2 of 100\n",
      "building tree 3 of 100\n",
      "building tree 4 of 100\n",
      "building tree 5 of 100\n",
      "building tree 6 of 100\n",
      "building tree 7 of 100\n",
      "building tree 8 of 100\n",
      "building tree 9 of 100\n",
      "building tree 10 of 100\n",
      "building tree 11 of 100\n",
      "\n",
      "building tree 12 of 100\n",
      "building tree 13 of 100\n",
      "building tree 14 of 100\n",
      "building tree 15 of 100\n",
      "building tree 16 of 100\n",
      "building tree 17 of 100\n",
      "building tree 18 of 100\n",
      "building tree 19 of 100\n",
      "building tree 20 of 100\n",
      "building tree 21 of 100\n",
      "building tree 22 of 100\n",
      "building tree 23 of 100\n",
      "building tree 24 of 100\n",
      "building tree 25 of 100\n",
      "building tree 26 of 100\n",
      "building tree 27 of 100\n",
      "building tree 28 of 100\n",
      "building tree 29 of 100\n",
      "building tree 30 of 100\n",
      "building tree 31 of 100\n",
      "building tree 32 of 100\n",
      "building tree 33 of 100\n",
      "building tree 34 of 100\n",
      "building tree 35 of 100\n",
      "building tree 36 of 100\n",
      "building tree 37 of 100\n",
      "building tree 38 of 100\n",
      "building tree 39 of 100\n",
      "building tree 40 of 100\n",
      "building tree 41 of 100\n",
      "building tree 42 of 100\n",
      "building tree 43 of 100\n",
      "building tree 44 of 100\n",
      "building tree 45 of 100\n",
      "building tree 46 of 100\n",
      "building tree 47 of 100\n",
      "building tree 48 of 100\n",
      "building tree 49 of 100\n",
      "building tree 50 of 100\n",
      "building tree 51 of 100\n",
      "building tree 52 of 100\n",
      "building tree 53 of 100\n",
      "building tree 54 of 100\n",
      "building tree 55 of 100\n",
      "building tree 56 of 100\n",
      "building tree 57 of 100\n",
      "building tree 58 of 100\n",
      "building tree 59 of 100\n",
      "building tree 60 of 100\n",
      "building tree 61 of 100\n",
      "building tree 62 of 100\n",
      "building tree 63 of 100\n",
      "building tree 64 of 100\n",
      "building tree 65 of 100\n",
      "building tree 66 of 100\n",
      "building tree 67 of 100\n",
      "building tree 68 of 100\n",
      "building tree 69 of 100\n",
      "building tree 70 of 100\n",
      "building tree 71 of 100\n",
      "building tree 72 of 100\n",
      "building tree 73 of 100\n",
      "building tree 74 of 100\n",
      "building tree 75 of 100\n",
      "building tree 76 of 100\n",
      "building tree 77 of 100\n",
      "building tree 78 of 100\n",
      "building tree 79 of 100\n",
      "building tree 80 of 100\n",
      "building tree 81 of 100\n",
      "building tree 82 of 100\n",
      "building tree 83 of 100\n",
      "building tree 84 of 100\n",
      "building tree 85 of 100\n",
      "building tree 86 of 100\n",
      "building tree 87 of 100\n",
      "building tree 88 of 100\n",
      "building tree 89 of 100\n",
      "building tree 90 of 100\n",
      "building tree 91 of 100\n",
      "building tree 92 of 100\n",
      "building tree 93 of 100\n",
      "building tree 94 of 100\n",
      "building tree 95 of 100\n",
      "building tree 96 of 100\n",
      "building tree 97 of 100\n",
      "building tree 98 of 100\n",
      "building tree 99 of 100\n",
      "building tree 100 of 100\n"
     ]
    },
    {
     "name": "stderr",
     "output_type": "stream",
     "text": [
      "[Parallel(n_jobs=-1)]: Done 100 out of 100 | elapsed:  2.6min finished\n",
      "[Parallel(n_jobs=16)]: Using backend ThreadingBackend with 16 concurrent workers.\n",
      "[Parallel(n_jobs=16)]: Done 100 out of 100 | elapsed:    0.7s finished\n",
      "[Parallel(n_jobs=-1)]: Using backend ThreadingBackend with 16 concurrent workers.\n"
     ]
    },
    {
     "name": "stdout",
     "output_type": "stream",
     "text": [
      "building tree 1 of 20\n",
      "building tree 2 of 20\n",
      "building tree 3 of 20\n",
      "building tree 4 of 20\n",
      "building tree 5 of 20\n",
      "building tree 6 of 20\n",
      "building tree 7 of 20\n",
      "building tree 8 of 20\n",
      "building tree 9 of 20\n",
      "building tree 10 of 20\n",
      "building tree 11 of 20\n",
      "building tree 12 of 20\n",
      "building tree 13 of 20\n",
      "building tree 14 of 20\n",
      "building tree 15 of 20\n",
      "building tree 16 of 20\n",
      "building tree 17 of 20\n",
      "building tree 18 of 20\n",
      "building tree 19 of 20\n",
      "building tree 20 of 20\n"
     ]
    },
    {
     "name": "stderr",
     "output_type": "stream",
     "text": [
      "[Parallel(n_jobs=-1)]: Done   3 out of  20 | elapsed:   17.7s remaining:  1.7min\n",
      "[Parallel(n_jobs=-1)]: Done  10 out of  20 | elapsed:   17.9s remaining:   17.9s\n",
      "[Parallel(n_jobs=-1)]: Done  17 out of  20 | elapsed:   28.9s remaining:    5.1s\n",
      "[Parallel(n_jobs=-1)]: Done  20 out of  20 | elapsed:   29.3s finished\n",
      "[Parallel(n_jobs=16)]: Using backend ThreadingBackend with 16 concurrent workers.\n",
      "[Parallel(n_jobs=16)]: Done   3 out of  20 | elapsed:    0.1s remaining:    0.6s\n",
      "[Parallel(n_jobs=16)]: Done  10 out of  20 | elapsed:    0.1s remaining:    0.1s\n",
      "[Parallel(n_jobs=16)]: Done  17 out of  20 | elapsed:    0.2s remaining:    0.0s\n",
      "[Parallel(n_jobs=16)]: Done  20 out of  20 | elapsed:    0.2s finished\n",
      "[Parallel(n_jobs=-1)]: Using backend ThreadingBackend with 16 concurrent workers.\n"
     ]
    },
    {
     "name": "stdout",
     "output_type": "stream",
     "text": [
      "building tree 1 of 50\n",
      "building tree 2 of 50\n",
      "building tree 3 of 50building tree 4 of 50\n",
      "building tree 5 of 50\n",
      "building tree 6 of 50\n",
      "building tree 7 of 50\n",
      "\n",
      "building tree 8 of 50\n",
      "building tree 9 of 50\n",
      "building tree 10 of 50\n",
      "building tree 11 of 50\n",
      "building tree 12 of 50\n",
      "building tree 13 of 50\n",
      "building tree 14 of 50\n",
      "building tree 15 of 50\n",
      "building tree 16 of 50\n",
      "building tree 17 of 50\n",
      "building tree 18 of 50\n",
      "building tree 19 of 50\n",
      "building tree 20 of 50\n",
      "building tree 21 of 50\n",
      "building tree 22 of 50\n",
      "building tree 23 of 50\n",
      "building tree 24 of 50\n",
      "building tree 25 of 50\n",
      "building tree 26 of 50\n",
      "building tree 27 of 50\n",
      "building tree 28 of 50\n",
      "building tree 29 of 50\n",
      "building tree 30 of 50\n",
      "building tree 31 of 50\n",
      "building tree 32 of 50\n",
      "building tree 33 of 50\n",
      "building tree 34 of 50\n",
      "building tree 35 of 50\n",
      "building tree 36 of 50\n",
      "building tree 37 of 50\n",
      "building tree 38 of 50\n",
      "building tree 39 of 50\n",
      "building tree 40 of 50\n",
      "building tree 41 of 50\n",
      "building tree 42 of 50\n",
      "building tree 43 of 50\n",
      "building tree 44 of 50\n",
      "building tree 45 of 50\n",
      "building tree 46 of 50\n",
      "building tree 47 of 50\n",
      "building tree 48 of 50\n",
      "building tree 49 of 50\n",
      "building tree 50 of 50\n"
     ]
    },
    {
     "name": "stderr",
     "output_type": "stream",
     "text": [
      "[Parallel(n_jobs=-1)]: Done  36 out of  50 | elapsed:   53.3s remaining:   20.7s\n",
      "[Parallel(n_jobs=-1)]: Done  50 out of  50 | elapsed:  1.1min finished\n",
      "[Parallel(n_jobs=16)]: Using backend ThreadingBackend with 16 concurrent workers.\n",
      "[Parallel(n_jobs=16)]: Done  36 out of  50 | elapsed:    0.3s remaining:    0.1s\n",
      "[Parallel(n_jobs=16)]: Done  50 out of  50 | elapsed:    0.4s finished\n",
      "[Parallel(n_jobs=-1)]: Using backend ThreadingBackend with 16 concurrent workers.\n"
     ]
    },
    {
     "name": "stdout",
     "output_type": "stream",
     "text": [
      "building tree 1 of 100building tree 2 of 100\n",
      "building tree 3 of 100\n",
      "building tree 4 of 100\n",
      "building tree 5 of 100\n",
      "\n",
      "building tree 6 of 100\n",
      "building tree 7 of 100\n",
      "building tree 8 of 100\n",
      "building tree 9 of 100\n",
      "building tree 10 of 100\n",
      "building tree 11 of 100\n",
      "building tree 12 of 100\n",
      "building tree 13 of 100\n",
      "building tree 14 of 100building tree 15 of 100\n",
      "\n",
      "building tree 16 of 100\n",
      "building tree 17 of 100\n",
      "building tree 18 of 100\n",
      "building tree 19 of 100\n",
      "building tree 20 of 100\n",
      "building tree 21 of 100\n",
      "building tree 22 of 100\n",
      "building tree 23 of 100\n",
      "building tree 24 of 100\n",
      "building tree 25 of 100\n",
      "building tree 26 of 100\n",
      "building tree 27 of 100\n",
      "building tree 28 of 100\n",
      "building tree 29 of 100\n",
      "building tree 30 of 100\n",
      "building tree 31 of 100\n",
      "building tree 32 of 100\n",
      "building tree 33 of 100\n",
      "building tree 34 of 100\n",
      "building tree 35 of 100\n",
      "building tree 36 of 100\n",
      "building tree 37 of 100\n",
      "building tree 38 of 100\n",
      "building tree 39 of 100\n",
      "building tree 40 of 100\n",
      "building tree 41 of 100\n",
      "building tree 42 of 100\n",
      "building tree 43 of 100\n",
      "building tree 44 of 100\n",
      "building tree 45 of 100\n",
      "building tree 46 of 100\n",
      "building tree 47 of 100\n",
      "building tree 48 of 100\n",
      "building tree 49 of 100\n",
      "building tree 50 of 100\n",
      "building tree 51 of 100\n",
      "building tree 52 of 100\n",
      "building tree 53 of 100\n",
      "building tree 54 of 100\n",
      "building tree 55 of 100\n",
      "building tree 56 of 100\n",
      "building tree 57 of 100\n",
      "building tree 58 of 100\n",
      "building tree 59 of 100\n",
      "building tree 60 of 100\n",
      "building tree 61 of 100\n",
      "building tree 62 of 100\n",
      "building tree 63 of 100\n",
      "building tree 64 of 100\n",
      "building tree 65 of 100\n",
      "building tree 66 of 100\n",
      "building tree 67 of 100\n",
      "building tree 68 of 100\n",
      "building tree 69 of 100\n",
      "building tree 70 of 100\n",
      "building tree 71 of 100\n",
      "building tree 72 of 100\n",
      "building tree 73 of 100\n",
      "building tree 74 of 100\n",
      "building tree 75 of 100\n",
      "building tree 76 of 100\n",
      "building tree 77 of 100\n",
      "building tree 78 of 100\n",
      "building tree 79 of 100\n",
      "building tree 80 of 100\n",
      "building tree 81 of 100\n",
      "building tree 82 of 100\n",
      "building tree 83 of 100\n",
      "building tree 84 of 100\n",
      "building tree 85 of 100\n",
      "building tree 86 of 100\n",
      "building tree 87 of 100\n",
      "building tree 88 of 100\n",
      "building tree 89 of 100\n",
      "building tree 90 of 100\n",
      "building tree 91 of 100\n",
      "building tree 92 of 100\n",
      "building tree 93 of 100\n",
      "building tree 94 of 100\n",
      "building tree 95 of 100\n",
      "building tree 96 of 100\n",
      "building tree 97 of 100\n",
      "building tree 98 of 100\n",
      "building tree 99 of 100\n",
      "building tree 100 of 100\n"
     ]
    },
    {
     "name": "stderr",
     "output_type": "stream",
     "text": [
      "[Parallel(n_jobs=-1)]: Done 100 out of 100 | elapsed:  2.0min finished\n",
      "[Parallel(n_jobs=16)]: Using backend ThreadingBackend with 16 concurrent workers.\n",
      "[Parallel(n_jobs=16)]: Done 100 out of 100 | elapsed:    0.7s finished\n",
      "[Parallel(n_jobs=-1)]: Using backend ThreadingBackend with 16 concurrent workers.\n"
     ]
    },
    {
     "name": "stdout",
     "output_type": "stream",
     "text": [
      "building tree 1 of 20\n",
      "building tree 2 of 20\n",
      "building tree 3 of 20\n",
      "building tree 4 of 20\n",
      "building tree 5 of 20\n",
      "building tree 6 of 20\n",
      "building tree 7 of 20\n",
      "building tree 8 of 20\n",
      "building tree 9 of 20\n",
      "building tree 10 of 20\n",
      "building tree 11 of 20\n",
      "building tree 12 of 20\n",
      "building tree 13 of 20\n",
      "building tree 14 of 20\n",
      "building tree 15 of 20\n",
      "building tree 16 of 20\n",
      "building tree 17 of 20\n",
      "building tree 18 of 20\n"
     ]
    },
    {
     "name": "stderr",
     "output_type": "stream",
     "text": [
      "[Parallel(n_jobs=-1)]: Done   3 out of  20 | elapsed:   12.2s remaining:  1.1min\n",
      "[Parallel(n_jobs=-1)]: Done  10 out of  20 | elapsed:   12.3s remaining:   12.3s\n"
     ]
    },
    {
     "name": "stdout",
     "output_type": "stream",
     "text": [
      "building tree 19 of 20\n",
      "building tree 20 of 20\n"
     ]
    },
    {
     "name": "stderr",
     "output_type": "stream",
     "text": [
      "[Parallel(n_jobs=-1)]: Done  17 out of  20 | elapsed:   19.7s remaining:    3.5s\n",
      "[Parallel(n_jobs=-1)]: Done  20 out of  20 | elapsed:   20.0s finished\n",
      "[Parallel(n_jobs=16)]: Using backend ThreadingBackend with 16 concurrent workers.\n",
      "[Parallel(n_jobs=16)]: Done   3 out of  20 | elapsed:    0.2s remaining:    1.1s\n",
      "[Parallel(n_jobs=16)]: Done  10 out of  20 | elapsed:    0.2s remaining:    0.2s\n",
      "[Parallel(n_jobs=16)]: Done  17 out of  20 | elapsed:    0.3s remaining:    0.1s\n",
      "[Parallel(n_jobs=16)]: Done  20 out of  20 | elapsed:    0.3s finished\n",
      "[Parallel(n_jobs=-1)]: Using backend ThreadingBackend with 16 concurrent workers.\n"
     ]
    },
    {
     "name": "stdout",
     "output_type": "stream",
     "text": [
      "building tree 1 of 50\n",
      "building tree 2 of 50\n",
      "building tree 3 of 50\n",
      "building tree 4 of 50\n",
      "building tree 5 of 50\n",
      "building tree 6 of 50\n",
      "building tree 7 of 50\n",
      "building tree 8 of 50\n",
      "building tree 9 of 50\n",
      "building tree 10 of 50building tree 11 of 50\n",
      "building tree 12 of 50\n",
      "building tree 13 of 50\n",
      "building tree 14 of 50\n",
      "building tree 15 of 50\n",
      "building tree 16 of 50\n",
      "\n",
      "building tree 17 of 50\n",
      "building tree 18 of 50\n",
      "building tree 19 of 50\n",
      "building tree 20 of 50\n",
      "building tree 21 of 50\n",
      "building tree 22 of 50\n",
      "building tree 23 of 50\n",
      "building tree 24 of 50\n",
      "building tree 25 of 50\n",
      "building tree 26 of 50\n",
      "building tree 27 of 50\n",
      "building tree 28 of 50\n",
      "building tree 29 of 50\n",
      "building tree 30 of 50\n",
      "building tree 31 of 50\n",
      "building tree 32 of 50\n",
      "building tree 33 of 50\n",
      "building tree 34 of 50\n",
      "building tree 35 of 50\n",
      "building tree 36 of 50\n",
      "building tree 37 of 50\n",
      "building tree 38 of 50\n",
      "building tree 39 of 50\n",
      "building tree 40 of 50\n",
      "building tree 41 of 50\n",
      "building tree 42 of 50\n",
      "building tree 43 of 50\n",
      "building tree 44 of 50\n",
      "building tree 45 of 50\n",
      "building tree 46 of 50\n",
      "building tree 47 of 50\n",
      "building tree 48 of 50\n",
      "building tree 49 of 50\n",
      "building tree 50 of 50\n"
     ]
    },
    {
     "name": "stderr",
     "output_type": "stream",
     "text": [
      "[Parallel(n_jobs=-1)]: Done  36 out of  50 | elapsed:   36.9s remaining:   14.4s\n",
      "[Parallel(n_jobs=-1)]: Done  50 out of  50 | elapsed:   44.7s finished\n",
      "[Parallel(n_jobs=16)]: Using backend ThreadingBackend with 16 concurrent workers.\n",
      "[Parallel(n_jobs=16)]: Done  36 out of  50 | elapsed:    0.6s remaining:    0.2s\n",
      "[Parallel(n_jobs=16)]: Done  50 out of  50 | elapsed:    0.7s finished\n",
      "[Parallel(n_jobs=-1)]: Using backend ThreadingBackend with 16 concurrent workers.\n"
     ]
    },
    {
     "name": "stdout",
     "output_type": "stream",
     "text": [
      "building tree 1 of 100building tree 2 of 100\n",
      "building tree 3 of 100\n",
      "building tree 4 of 100\n",
      "building tree 5 of 100\n",
      "building tree 6 of 100\n",
      "building tree 7 of 100\n",
      "building tree 8 of 100\n",
      "building tree 9 of 100\n",
      "\n",
      "building tree 10 of 100\n",
      "building tree 11 of 100\n",
      "building tree 12 of 100\n",
      "building tree 13 of 100\n",
      "building tree 14 of 100\n",
      "building tree 15 of 100\n",
      "building tree 16 of 100\n",
      "building tree 17 of 100\n",
      "building tree 18 of 100\n",
      "building tree 19 of 100\n",
      "building tree 20 of 100\n",
      "building tree 21 of 100\n",
      "building tree 22 of 100building tree 23 of 100\n",
      "\n",
      "building tree 24 of 100\n",
      "building tree 25 of 100\n",
      "building tree 26 of 100\n",
      "building tree 27 of 100\n",
      "building tree 28 of 100\n",
      "building tree 29 of 100\n",
      "building tree 30 of 100\n",
      "building tree 31 of 100\n",
      "building tree 32 of 100\n",
      "building tree 33 of 100\n",
      "building tree 34 of 100\n",
      "building tree 35 of 100\n",
      "building tree 36 of 100\n",
      "building tree 37 of 100\n",
      "building tree 38 of 100\n",
      "building tree 39 of 100\n",
      "building tree 40 of 100\n",
      "building tree 41 of 100\n",
      "building tree 42 of 100\n",
      "building tree 43 of 100\n",
      "building tree 44 of 100\n",
      "building tree 45 of 100\n",
      "building tree 46 of 100\n",
      "building tree 47 of 100\n",
      "building tree 48 of 100\n",
      "building tree 49 of 100\n",
      "building tree 50 of 100\n",
      "building tree 51 of 100\n",
      "building tree 52 of 100\n",
      "building tree 53 of 100\n",
      "building tree 54 of 100\n",
      "building tree 55 of 100\n",
      "building tree 56 of 100\n",
      "building tree 57 of 100\n",
      "building tree 58 of 100\n",
      "building tree 59 of 100\n",
      "building tree 60 of 100\n",
      "building tree 61 of 100\n",
      "building tree 62 of 100\n",
      "building tree 63 of 100\n",
      "building tree 64 of 100\n",
      "building tree 65 of 100\n",
      "building tree 66 of 100\n",
      "building tree 67 of 100\n",
      "building tree 68 of 100\n",
      "building tree 69 of 100\n",
      "building tree 70 of 100\n",
      "building tree 71 of 100\n",
      "building tree 72 of 100\n",
      "building tree 73 of 100\n",
      "building tree 74 of 100\n",
      "building tree 75 of 100\n",
      "building tree 76 of 100\n",
      "building tree 77 of 100\n",
      "building tree 78 of 100\n",
      "building tree 79 of 100\n",
      "building tree 80 of 100\n",
      "building tree 81 of 100\n",
      "building tree 82 of 100\n",
      "building tree 83 of 100\n",
      "building tree 84 of 100\n",
      "building tree 85 of 100\n",
      "building tree 86 of 100\n",
      "building tree 87 of 100\n",
      "building tree 88 of 100\n",
      "building tree 89 of 100\n",
      "building tree 90 of 100\n",
      "building tree 91 of 100\n",
      "building tree 92 of 100\n",
      "building tree 93 of 100\n",
      "building tree 94 of 100\n",
      "building tree 95 of 100\n",
      "building tree 96 of 100\n",
      "building tree 97 of 100\n",
      "building tree 98 of 100\n",
      "building tree 99 of 100\n",
      "building tree 100 of 100\n"
     ]
    },
    {
     "name": "stderr",
     "output_type": "stream",
     "text": [
      "[Parallel(n_jobs=-1)]: Done 100 out of 100 | elapsed:  1.4min finished\n",
      "[Parallel(n_jobs=16)]: Using backend ThreadingBackend with 16 concurrent workers.\n"
     ]
    },
    {
     "name": "stdout",
     "output_type": "stream",
     "text": [
      "CPU times: user 2h 29min 53s, sys: 6.48 s, total: 2h 30min\n",
      "Wall time: 10min 49s\n"
     ]
    },
    {
     "name": "stderr",
     "output_type": "stream",
     "text": [
      "[Parallel(n_jobs=16)]: Done 100 out of 100 | elapsed:    1.3s finished\n"
     ]
    }
   ],
   "source": [
    "%%time\n",
    "# Training on full review\n",
    "\n",
    "_,features = X_test.shape\n",
    "accuracy_list = {}\n",
    "\n",
    "\n",
    "## our grid exaustive search parameters\n",
    "m_features_names = [\"2 sqrt(M)\", \"sqrt(M)\", \"log2(M)\"]\n",
    "m_features = [int(2*math.sqrt(features)), int(math.sqrt(features)), int(math.log2(features))]\n",
    "num_trees = [20,50,100]\n",
    "\n",
    "for m,m_name in zip(m_features,m_features_names):\n",
    "    accuracy_list[m_name] = []\n",
    "    for tr in num_trees:\n",
    "        rfc_rating = RandomForestClassifier(n_estimators=tr,max_features=m,n_jobs=-1,verbose=3, random_state=42 )\n",
    "        rfc_rating.fit(X_train, y_train)\n",
    "        accuracy = rfc_rating.score(X_test, y_test)\n",
    "        accuracy_list[m_name].append(accuracy)\n",
    "\n"
   ]
  },
  {
   "cell_type": "code",
   "execution_count": 18,
   "metadata": {},
   "outputs": [
    {
     "data": {
      "text/plain": [
       "{'2 sqrt(M)': [0.7410746011856895, 0.7484617830225729, 0.7486675020104355],\n",
       " 'log2(M)': [0.7274784462605899, 0.7371659404163005, 0.7396158665444821],\n",
       " 'sqrt(M)': [0.7365487834527127, 0.744609227431692, 0.7442538946344748]}"
      ]
     },
     "execution_count": 18,
     "metadata": {},
     "output_type": "execute_result"
    }
   ],
   "source": [
    "# printing our accuracy list dictionary\n",
    "accuracy_list\n",
    "# max accuracy reached was 0.7486 at 100 trees and m = 2sqrt(M)"
   ]
  },
  {
   "cell_type": "markdown",
   "metadata": {},
   "source": [
    "**Max accuracy was reached at 100 trees with m= 2sqrt(M)**\n",
    "**Accuracy was aprox 74.86%**\n",
    "\n",
    "Note values might differ a bit every time due to randomness in building trees"
   ]
  },
  {
   "cell_type": "code",
   "execution_count": 19,
   "metadata": {},
   "outputs": [
    {
     "data": {
      "text/plain": [
       "<matplotlib.legend.Legend at 0x7fc473c9e940>"
      ]
     },
     "execution_count": 19,
     "metadata": {},
     "output_type": "execute_result"
    },
    {
     "data": {
      "image/png": "[encoded data removed]",
      "text/plain": [
       "<Figure size 432x288 with 1 Axes>"
      ]
     },
     "metadata": {
      "needs_background": "light"
     },
     "output_type": "display_data"
    }
   ],
   "source": [
    "#plotting graphs for Random forest for training on full review\n",
    "plt.plot(num_trees, accuracy_list['2 sqrt(M)'],label='2 x sqrt(M)')\n",
    "plt.plot(num_trees, accuracy_list['log2(M)'],label='log2(M')\n",
    "plt.plot(num_trees, accuracy_list['sqrt(M)'],label='sqrt(M)')\n",
    "plt.xlabel('Number of trees')\n",
    "plt.ylabel('Accuracy')\n",
    "plt.legend(loc='lower right')"
   ]
  },
  {
   "cell_type": "code",
   "execution_count": 20,
   "metadata": {},
   "outputs": [
    {
     "name": "stderr",
     "output_type": "stream",
     "text": [
      "/usr/local/lib/python3.5/dist-packages/matplotlib/pyplot.py:880: MatplotlibDeprecationWarning: \n",
      "Using pyplot.axes(ax) with ax an Axes argument is deprecated. Please use pyplot.sca(ax) instead.\n",
      "  message=\"Using pyplot.axes(ax) with ax an Axes \"\n"
     ]
    },
    {
     "data": {
      "image/png": "[encoded data removed]",
      "text/plain": [
       "<Figure size 432x288 with 1 Axes>"
      ]
     },
     "metadata": {
      "needs_background": "light"
     },
     "output_type": "display_data"
    }
   ],
   "source": [
    "new_list = list(accuracy_list.values())\n",
    "fig, ax = plt.subplots()\n",
    "# [20,50,100]\n",
    "index = np.arange(len(new_list[0]))\n",
    "\n",
    "p1 = ax.bar(index - 0.2, new_list[0], 0.2, label='2 x sqrt(M)')\n",
    "p2 = ax.bar(index , new_list[1], 0.2, label='sqrt(M)')\n",
    "p3 = ax.bar(index + 0.2, new_list[2], 0.2, label='log2(M)')\n",
    "\n",
    "ax.set_xticks(index + 0.2/3)\n",
    "ax.set_xticklabels(['20', '50', '100'])\n",
    "ax.set_ylim(0, 1)\n",
    "ax.set_xlabel('Number of trees')\n",
    "ax.set_ylabel('Accuracy')\n",
    "\n",
    "plt.axes(ax)\n",
    "\n",
    "plt.legend(loc='lower right')\n",
    "plt.show()"
   ]
  },
  {
   "cell_type": "markdown",
   "metadata": {},
   "source": [
    "## Training Random forest on Summary\n",
    "- we now train our model on review summary\n"
   ]
  },
  {
   "cell_type": "code",
   "execution_count": 21,
   "metadata": {},
   "outputs": [
    {
     "name": "stderr",
     "output_type": "stream",
     "text": [
      "[Parallel(n_jobs=-1)]: Using backend ThreadingBackend with 16 concurrent workers.\n"
     ]
    },
    {
     "name": "stdout",
     "output_type": "stream",
     "text": [
      "building tree 1 of 20building tree 2 of 20\n",
      "building tree 3 of 20\n",
      "building tree 4 of 20\n",
      "\n",
      "building tree 5 of 20\n",
      "building tree 6 of 20\n",
      "building tree 7 of 20\n",
      "building tree 8 of 20\n",
      "building tree 9 of 20\n",
      "building tree 10 of 20\n",
      "building tree 11 of 20\n",
      "building tree 12 of 20\n",
      "building tree 13 of 20\n",
      "building tree 14 of 20\n",
      "building tree 15 of 20\n",
      "building tree 16 of 20\n",
      "building tree 17 of 20\n",
      "building tree 18 of 20\n",
      "building tree 19 of 20\n",
      "building tree 20 of 20\n"
     ]
    },
    {
     "name": "stderr",
     "output_type": "stream",
     "text": [
      "[Parallel(n_jobs=-1)]: Done   3 out of  20 | elapsed:   17.8s remaining:  1.7min\n",
      "[Parallel(n_jobs=-1)]: Done  10 out of  20 | elapsed:   18.1s remaining:   18.1s\n",
      "[Parallel(n_jobs=-1)]: Done  17 out of  20 | elapsed:   30.2s remaining:    5.3s\n",
      "[Parallel(n_jobs=-1)]: Done  20 out of  20 | elapsed:   30.5s finished\n",
      "[Parallel(n_jobs=16)]: Using backend ThreadingBackend with 16 concurrent workers.\n",
      "[Parallel(n_jobs=16)]: Done   3 out of  20 | elapsed:    0.1s remaining:    0.6s\n",
      "[Parallel(n_jobs=16)]: Done  10 out of  20 | elapsed:    0.1s remaining:    0.1s\n",
      "[Parallel(n_jobs=16)]: Done  17 out of  20 | elapsed:    0.2s remaining:    0.0s\n",
      "[Parallel(n_jobs=16)]: Done  20 out of  20 | elapsed:    0.2s finished\n",
      "[Parallel(n_jobs=-1)]: Using backend ThreadingBackend with 16 concurrent workers.\n"
     ]
    },
    {
     "name": "stdout",
     "output_type": "stream",
     "text": [
      "building tree 1 of 50\n",
      "building tree 2 of 50\n",
      "building tree 3 of 50\n",
      "building tree 4 of 50\n",
      "building tree 5 of 50\n",
      "building tree 6 of 50\n",
      "building tree 7 of 50\n",
      "building tree 8 of 50\n",
      "building tree 9 of 50\n",
      "building tree 10 of 50\n",
      "building tree 11 of 50\n",
      "building tree 12 of 50\n",
      "building tree 13 of 50\n",
      "building tree 14 of 50\n",
      "building tree 15 of 50\n",
      "building tree 16 of 50\n",
      "building tree 17 of 50\n",
      "building tree 18 of 50\n",
      "building tree 19 of 50\n",
      "building tree 20 of 50\n",
      "building tree 21 of 50\n",
      "building tree 22 of 50\n",
      "building tree 23 of 50\n",
      "building tree 24 of 50\n",
      "building tree 25 of 50\n",
      "building tree 26 of 50\n",
      "building tree 27 of 50\n",
      "building tree 28 of 50\n",
      "building tree 29 of 50\n",
      "building tree 30 of 50\n",
      "building tree 31 of 50\n",
      "building tree 32 of 50\n",
      "building tree 33 of 50\n",
      "building tree 34 of 50\n",
      "building tree 35 of 50\n",
      "building tree 36 of 50\n",
      "building tree 37 of 50\n",
      "building tree 38 of 50\n",
      "building tree 39 of 50\n",
      "building tree 40 of 50\n",
      "building tree 41 of 50\n",
      "building tree 42 of 50\n",
      "building tree 43 of 50\n",
      "building tree 44 of 50\n",
      "building tree 45 of 50\n",
      "building tree 46 of 50\n",
      "building tree 47 of 50\n",
      "building tree 48 of 50\n",
      "building tree 49 of 50\n",
      "building tree 50 of 50\n"
     ]
    },
    {
     "name": "stderr",
     "output_type": "stream",
     "text": [
      "[Parallel(n_jobs=-1)]: Done  36 out of  50 | elapsed:   53.8s remaining:   20.9s\n",
      "[Parallel(n_jobs=-1)]: Done  50 out of  50 | elapsed:  1.1min finished\n",
      "[Parallel(n_jobs=16)]: Using backend ThreadingBackend with 16 concurrent workers.\n",
      "[Parallel(n_jobs=16)]: Done  36 out of  50 | elapsed:    0.3s remaining:    0.1s\n",
      "[Parallel(n_jobs=16)]: Done  50 out of  50 | elapsed:    0.3s finished\n",
      "[Parallel(n_jobs=-1)]: Using backend ThreadingBackend with 16 concurrent workers.\n"
     ]
    },
    {
     "name": "stdout",
     "output_type": "stream",
     "text": [
      "building tree 1 of 100building tree 2 of 100building tree 3 of 100\n",
      "building tree 4 of 100\n",
      "building tree 5 of 100\n",
      "\n",
      "building tree 6 of 100\n",
      "building tree 7 of 100\n",
      "building tree 8 of 100\n",
      "building tree 9 of 100\n",
      "building tree 10 of 100\n",
      "\n",
      "building tree 11 of 100\n",
      "building tree 12 of 100\n",
      "building tree 13 of 100\n",
      "building tree 14 of 100\n",
      "building tree 15 of 100\n",
      "building tree 16 of 100\n",
      "building tree 17 of 100\n",
      "building tree 18 of 100\n",
      "building tree 19 of 100\n",
      "building tree 20 of 100\n",
      "building tree 21 of 100\n",
      "building tree 22 of 100\n",
      "building tree 23 of 100\n",
      "building tree 24 of 100\n",
      "building tree 25 of 100\n",
      "building tree 26 of 100\n",
      "building tree 27 of 100\n",
      "building tree 28 of 100\n",
      "building tree 29 of 100\n",
      "building tree 30 of 100\n",
      "building tree 31 of 100\n",
      "building tree 32 of 100\n",
      "building tree 33 of 100\n",
      "building tree 34 of 100\n",
      "building tree 35 of 100\n",
      "building tree 36 of 100\n",
      "building tree 37 of 100\n",
      "building tree 38 of 100\n",
      "building tree 39 of 100\n",
      "building tree 40 of 100\n",
      "building tree 41 of 100\n",
      "building tree 42 of 100\n",
      "building tree 43 of 100\n",
      "building tree 44 of 100\n",
      "building tree 45 of 100\n",
      "building tree 46 of 100\n",
      "building tree 47 of 100\n",
      "building tree 48 of 100\n",
      "building tree 49 of 100\n",
      "building tree 50 of 100\n",
      "building tree 51 of 100\n",
      "building tree 52 of 100\n",
      "building tree 53 of 100\n",
      "building tree 54 of 100\n",
      "building tree 55 of 100\n",
      "building tree 56 of 100\n",
      "building tree 57 of 100\n",
      "building tree 58 of 100\n",
      "building tree 59 of 100\n",
      "building tree 60 of 100\n",
      "building tree 61 of 100\n",
      "building tree 62 of 100\n",
      "building tree 63 of 100\n",
      "building tree 64 of 100\n",
      "building tree 65 of 100\n",
      "building tree 66 of 100\n",
      "building tree 67 of 100\n",
      "building tree 68 of 100\n",
      "building tree 69 of 100\n",
      "building tree 70 of 100\n",
      "building tree 71 of 100\n",
      "building tree 72 of 100\n",
      "building tree 73 of 100\n",
      "building tree 74 of 100\n",
      "building tree 75 of 100\n",
      "building tree 76 of 100\n",
      "building tree 77 of 100\n",
      "building tree 78 of 100\n",
      "building tree 79 of 100\n",
      "building tree 80 of 100\n",
      "building tree 81 of 100\n",
      "building tree 82 of 100\n",
      "building tree 83 of 100\n",
      "building tree 84 of 100\n",
      "building tree 85 of 100\n",
      "building tree 86 of 100\n",
      "building tree 87 of 100\n",
      "building tree 88 of 100\n",
      "building tree 89 of 100\n",
      "building tree 90 of 100\n",
      "building tree 91 of 100\n",
      "building tree 92 of 100\n",
      "building tree 93 of 100\n",
      "building tree 94 of 100\n",
      "building tree 95 of 100\n",
      "building tree 96 of 100\n",
      "building tree 97 of 100\n",
      "building tree 98 of 100\n",
      "building tree 99 of 100\n",
      "building tree 100 of 100\n"
     ]
    },
    {
     "name": "stderr",
     "output_type": "stream",
     "text": [
      "[Parallel(n_jobs=-1)]: Done 100 out of 100 | elapsed:  2.0min finished\n",
      "[Parallel(n_jobs=16)]: Using backend ThreadingBackend with 16 concurrent workers.\n",
      "[Parallel(n_jobs=16)]: Done 100 out of 100 | elapsed:    0.6s finished\n",
      "[Parallel(n_jobs=-1)]: Using backend ThreadingBackend with 16 concurrent workers.\n"
     ]
    },
    {
     "name": "stdout",
     "output_type": "stream",
     "text": [
      "building tree 1 of 20building tree 2 of 20building tree 3 of 20building tree 4 of 20building tree 5 of 20building tree 6 of 20building tree 7 of 20\n",
      "building tree 8 of 20\n",
      "\n",
      "\n",
      "building tree 9 of 20\n",
      "building tree 10 of 20\n",
      "\n",
      "building tree 11 of 20building tree 12 of 20\n",
      "\n",
      "\n",
      "\n",
      "building tree 13 of 20\n",
      "building tree 14 of 20\n",
      "building tree 15 of 20\n",
      "\n",
      "building tree 16 of 20\n",
      "building tree 17 of 20\n",
      "building tree 18 of 20\n",
      "building tree 19 of 20\n",
      "building tree 20 of 20\n"
     ]
    },
    {
     "name": "stderr",
     "output_type": "stream",
     "text": [
      "[Parallel(n_jobs=-1)]: Done   3 out of  20 | elapsed:   15.5s remaining:  1.5min\n",
      "[Parallel(n_jobs=-1)]: Done  10 out of  20 | elapsed:   15.8s remaining:   15.8s\n",
      "[Parallel(n_jobs=-1)]: Done  17 out of  20 | elapsed:   26.1s remaining:    4.6s\n",
      "[Parallel(n_jobs=-1)]: Done  20 out of  20 | elapsed:   26.5s finished\n",
      "[Parallel(n_jobs=16)]: Using backend ThreadingBackend with 16 concurrent workers.\n",
      "[Parallel(n_jobs=16)]: Done   3 out of  20 | elapsed:    0.1s remaining:    0.6s\n",
      "[Parallel(n_jobs=16)]: Done  10 out of  20 | elapsed:    0.1s remaining:    0.1s\n",
      "[Parallel(n_jobs=16)]: Done  17 out of  20 | elapsed:    0.2s remaining:    0.0s\n",
      "[Parallel(n_jobs=16)]: Done  20 out of  20 | elapsed:    0.2s finished\n",
      "[Parallel(n_jobs=-1)]: Using backend ThreadingBackend with 16 concurrent workers.\n"
     ]
    },
    {
     "name": "stdout",
     "output_type": "stream",
     "text": [
      "building tree 1 of 50building tree 2 of 50building tree 3 of 50\n",
      "building tree 4 of 50\n",
      "building tree 5 of 50\n",
      "building tree 6 of 50\n",
      "building tree 7 of 50\n",
      "building tree 8 of 50\n",
      "building tree 9 of 50\n",
      "building tree 10 of 50\n",
      "building tree 11 of 50\n",
      "building tree 12 of 50\n",
      "\n",
      "building tree 13 of 50building tree 14 of 50\n",
      "\n",
      "\n",
      "building tree 15 of 50\n",
      "building tree 16 of 50\n",
      "building tree 17 of 50\n",
      "building tree 18 of 50\n",
      "building tree 19 of 50\n",
      "building tree 20 of 50\n",
      "building tree 21 of 50\n",
      "building tree 22 of 50\n",
      "building tree 23 of 50\n",
      "building tree 24 of 50\n",
      "building tree 25 of 50\n",
      "building tree 26 of 50building tree 27 of 50\n",
      "\n",
      "building tree 28 of 50\n",
      "building tree 29 of 50\n",
      "building tree 30 of 50\n",
      "building tree 31 of 50\n",
      "building tree 32 of 50\n",
      "building tree 33 of 50\n",
      "building tree 34 of 50\n",
      "building tree 35 of 50\n",
      "building tree 36 of 50\n",
      "building tree 37 of 50\n",
      "building tree 38 of 50\n",
      "building tree 39 of 50\n",
      "building tree 40 of 50\n",
      "building tree 41 of 50\n",
      "building tree 42 of 50\n",
      "building tree 43 of 50\n",
      "building tree 44 of 50\n",
      "building tree 45 of 50\n",
      "building tree 46 of 50\n",
      "building tree 47 of 50\n",
      "building tree 48 of 50\n",
      "building tree 49 of 50\n",
      "building tree 50 of 50\n"
     ]
    },
    {
     "name": "stderr",
     "output_type": "stream",
     "text": [
      "[Parallel(n_jobs=-1)]: Done  36 out of  50 | elapsed:   46.1s remaining:   17.9s\n",
      "[Parallel(n_jobs=-1)]: Done  50 out of  50 | elapsed:   57.0s finished\n",
      "[Parallel(n_jobs=16)]: Using backend ThreadingBackend with 16 concurrent workers.\n",
      "[Parallel(n_jobs=16)]: Done  36 out of  50 | elapsed:    0.3s remaining:    0.1s\n",
      "[Parallel(n_jobs=16)]: Done  50 out of  50 | elapsed:    0.4s finished\n",
      "[Parallel(n_jobs=-1)]: Using backend ThreadingBackend with 16 concurrent workers.\n"
     ]
    },
    {
     "name": "stdout",
     "output_type": "stream",
     "text": [
      "building tree 1 of 100\n",
      "building tree 2 of 100\n",
      "building tree 3 of 100building tree 4 of 100\n",
      "building tree 5 of 100\n",
      "building tree 6 of 100\n",
      "building tree 7 of 100\n",
      "building tree 8 of 100\n",
      "building tree 9 of 100\n",
      "building tree 10 of 100\n",
      "building tree 11 of 100\n",
      "building tree 12 of 100\n",
      "building tree 13 of 100\n",
      "\n",
      "building tree 14 of 100\n",
      "building tree 15 of 100\n",
      "building tree 16 of 100\n",
      "building tree 17 of 100\n",
      "building tree 18 of 100\n",
      "building tree 19 of 100\n",
      "building tree 20 of 100\n",
      "building tree 21 of 100\n",
      "building tree 22 of 100\n",
      "building tree 23 of 100\n",
      "building tree 24 of 100\n",
      "building tree 25 of 100\n",
      "building tree 26 of 100\n",
      "building tree 27 of 100\n",
      "building tree 28 of 100building tree 29 of 100\n",
      "\n",
      "building tree 30 of 100\n",
      "building tree 31 of 100\n",
      "building tree 32 of 100\n",
      "building tree 33 of 100\n",
      "building tree 34 of 100\n",
      "building tree 35 of 100\n",
      "building tree 36 of 100\n",
      "building tree 37 of 100\n",
      "building tree 38 of 100\n",
      "building tree 39 of 100\n",
      "building tree 40 of 100\n",
      "building tree 41 of 100\n",
      "building tree 42 of 100\n",
      "building tree 43 of 100\n",
      "building tree 44 of 100\n",
      "building tree 45 of 100\n",
      "building tree 46 of 100\n",
      "building tree 47 of 100\n",
      "building tree 48 of 100\n",
      "building tree 49 of 100\n",
      "building tree 50 of 100\n",
      "building tree 51 of 100\n",
      "building tree 52 of 100\n",
      "building tree 53 of 100\n",
      "building tree 54 of 100\n",
      "building tree 55 of 100\n",
      "building tree 56 of 100\n",
      "building tree 57 of 100\n",
      "building tree 58 of 100\n",
      "building tree 59 of 100\n",
      "building tree 60 of 100\n",
      "building tree 61 of 100\n",
      "building tree 62 of 100\n",
      "building tree 63 of 100\n",
      "building tree 64 of 100\n",
      "building tree 65 of 100\n",
      "building tree 66 of 100\n",
      "building tree 67 of 100\n",
      "building tree 68 of 100\n",
      "building tree 69 of 100\n",
      "building tree 70 of 100\n",
      "building tree 71 of 100\n",
      "building tree 72 of 100\n",
      "building tree 73 of 100\n",
      "building tree 74 of 100\n",
      "building tree 75 of 100\n",
      "building tree 76 of 100\n",
      "building tree 77 of 100\n",
      "building tree 78 of 100\n",
      "building tree 79 of 100\n",
      "building tree 80 of 100\n",
      "building tree 81 of 100\n",
      "building tree 82 of 100\n",
      "building tree 83 of 100\n",
      "building tree 84 of 100\n",
      "building tree 85 of 100\n",
      "building tree 86 of 100\n",
      "building tree 87 of 100\n",
      "building tree 88 of 100\n",
      "building tree 89 of 100\n",
      "building tree 90 of 100\n",
      "building tree 91 of 100\n",
      "building tree 92 of 100\n",
      "building tree 93 of 100\n",
      "building tree 94 of 100\n",
      "building tree 95 of 100\n",
      "building tree 96 of 100\n",
      "building tree 97 of 100\n",
      "building tree 98 of 100\n",
      "building tree 99 of 100\n",
      "building tree 100 of 100\n"
     ]
    },
    {
     "name": "stderr",
     "output_type": "stream",
     "text": [
      "[Parallel(n_jobs=-1)]: Done 100 out of 100 | elapsed:  1.7min finished\n",
      "[Parallel(n_jobs=16)]: Using backend ThreadingBackend with 16 concurrent workers.\n",
      "[Parallel(n_jobs=16)]: Done 100 out of 100 | elapsed:    0.7s finished\n",
      "[Parallel(n_jobs=-1)]: Using backend ThreadingBackend with 16 concurrent workers.\n"
     ]
    },
    {
     "name": "stdout",
     "output_type": "stream",
     "text": [
      "building tree 1 of 20building tree 2 of 20\n",
      "building tree 3 of 20\n",
      "building tree 4 of 20building tree 5 of 20\n",
      "building tree 6 of 20\n",
      "building tree 7 of 20\n",
      "building tree 8 of 20\n",
      "building tree 9 of 20\n",
      "building tree 10 of 20\n",
      "\n",
      "building tree 11 of 20\n",
      "building tree 12 of 20\n",
      "\n",
      "building tree 13 of 20\n",
      "building tree 14 of 20\n",
      "building tree 15 of 20\n",
      "building tree 16 of 20\n",
      "building tree 17 of 20\n",
      "building tree 18 of 20\n",
      "building tree 19 of 20\n"
     ]
    },
    {
     "name": "stderr",
     "output_type": "stream",
     "text": [
      "[Parallel(n_jobs=-1)]: Done   3 out of  20 | elapsed:   13.5s remaining:  1.3min\n"
     ]
    },
    {
     "name": "stdout",
     "output_type": "stream",
     "text": [
      "building tree 20 of 20\n"
     ]
    },
    {
     "name": "stderr",
     "output_type": "stream",
     "text": [
      "[Parallel(n_jobs=-1)]: Done  10 out of  20 | elapsed:   13.8s remaining:   13.8s\n",
      "[Parallel(n_jobs=-1)]: Done  17 out of  20 | elapsed:   22.8s remaining:    4.0s\n",
      "[Parallel(n_jobs=-1)]: Done  20 out of  20 | elapsed:   23.1s finished\n",
      "[Parallel(n_jobs=16)]: Using backend ThreadingBackend with 16 concurrent workers.\n",
      "[Parallel(n_jobs=16)]: Done   3 out of  20 | elapsed:    0.2s remaining:    1.3s\n",
      "[Parallel(n_jobs=16)]: Done  10 out of  20 | elapsed:    0.2s remaining:    0.2s\n",
      "[Parallel(n_jobs=16)]: Done  17 out of  20 | elapsed:    0.4s remaining:    0.1s\n",
      "[Parallel(n_jobs=16)]: Done  20 out of  20 | elapsed:    0.4s finished\n",
      "[Parallel(n_jobs=-1)]: Using backend ThreadingBackend with 16 concurrent workers.\n"
     ]
    },
    {
     "name": "stdout",
     "output_type": "stream",
     "text": [
      "building tree 1 of 50\n",
      "building tree 2 of 50\n",
      "building tree 3 of 50\n",
      "building tree 4 of 50\n",
      "building tree 5 of 50\n",
      "building tree 6 of 50\n",
      "building tree 7 of 50\n",
      "building tree 8 of 50\n",
      "building tree 9 of 50\n",
      "building tree 10 of 50\n",
      "building tree 11 of 50\n",
      "building tree 12 of 50\n",
      "building tree 13 of 50\n",
      "building tree 14 of 50\n",
      "building tree 15 of 50\n",
      "building tree 16 of 50\n",
      "building tree 17 of 50\n",
      "building tree 18 of 50\n",
      "building tree 19 of 50\n",
      "building tree 20 of 50\n",
      "building tree 21 of 50\n",
      "building tree 22 of 50\n",
      "building tree 23 of 50\n",
      "building tree 24 of 50\n",
      "building tree 25 of 50\n",
      "building tree 26 of 50\n",
      "building tree 27 of 50\n",
      "building tree 28 of 50\n",
      "building tree 29 of 50\n",
      "building tree 30 of 50\n",
      "building tree 31 of 50\n",
      "building tree 32 of 50\n",
      "building tree 33 of 50\n",
      "building tree 34 of 50\n",
      "building tree 35 of 50\n",
      "building tree 36 of 50\n",
      "building tree 37 of 50\n",
      "building tree 38 of 50\n",
      "building tree 39 of 50\n",
      "building tree 40 of 50\n",
      "building tree 41 of 50\n",
      "building tree 42 of 50\n",
      "building tree 43 of 50\n",
      "building tree 44 of 50\n",
      "building tree 45 of 50\n",
      "building tree 46 of 50\n",
      "building tree 47 of 50\n",
      "building tree 48 of 50\n",
      "building tree 49 of 50\n",
      "building tree 50 of 50\n"
     ]
    },
    {
     "name": "stderr",
     "output_type": "stream",
     "text": [
      "[Parallel(n_jobs=-1)]: Done  36 out of  50 | elapsed:   40.9s remaining:   15.9s\n",
      "[Parallel(n_jobs=-1)]: Done  50 out of  50 | elapsed:   50.4s finished\n",
      "[Parallel(n_jobs=16)]: Using backend ThreadingBackend with 16 concurrent workers.\n",
      "[Parallel(n_jobs=16)]: Done  36 out of  50 | elapsed:    0.6s remaining:    0.3s\n",
      "[Parallel(n_jobs=16)]: Done  50 out of  50 | elapsed:    0.8s finished\n",
      "[Parallel(n_jobs=-1)]: Using backend ThreadingBackend with 16 concurrent workers.\n"
     ]
    },
    {
     "name": "stdout",
     "output_type": "stream",
     "text": [
      "building tree 1 of 100building tree 2 of 100\n",
      "building tree 3 of 100\n",
      "building tree 4 of 100\n",
      "building tree 5 of 100\n",
      "building tree 6 of 100\n",
      "building tree 7 of 100\n",
      "\n",
      "building tree 8 of 100\n",
      "building tree 9 of 100\n",
      "building tree 10 of 100\n",
      "building tree 11 of 100\n",
      "building tree 12 of 100\n",
      "building tree 13 of 100\n",
      "building tree 14 of 100\n",
      "building tree 15 of 100\n",
      "building tree 16 of 100\n",
      "building tree 17 of 100\n",
      "building tree 18 of 100\n",
      "building tree 19 of 100\n",
      "building tree 20 of 100\n",
      "building tree 21 of 100\n",
      "building tree 22 of 100\n",
      "building tree 23 of 100\n",
      "building tree 24 of 100\n",
      "building tree 25 of 100\n",
      "building tree 26 of 100\n",
      "building tree 27 of 100\n",
      "building tree 28 of 100\n",
      "building tree 29 of 100\n",
      "building tree 30 of 100\n",
      "building tree 31 of 100\n",
      "building tree 32 of 100\n",
      "building tree 33 of 100\n",
      "building tree 34 of 100\n",
      "building tree 35 of 100\n",
      "building tree 36 of 100\n",
      "building tree 37 of 100\n",
      "building tree 38 of 100\n",
      "building tree 39 of 100\n",
      "building tree 40 of 100\n",
      "building tree 41 of 100\n",
      "building tree 42 of 100\n",
      "building tree 43 of 100\n",
      "building tree 44 of 100\n",
      "building tree 45 of 100\n",
      "building tree 46 of 100\n",
      "building tree 47 of 100\n",
      "building tree 48 of 100\n",
      "building tree 49 of 100\n",
      "building tree 50 of 100\n",
      "building tree 51 of 100\n",
      "building tree 52 of 100\n",
      "building tree 53 of 100\n",
      "building tree 54 of 100\n",
      "building tree 55 of 100\n",
      "building tree 56 of 100\n",
      "building tree 57 of 100\n",
      "building tree 58 of 100\n",
      "building tree 59 of 100\n",
      "building tree 60 of 100\n",
      "building tree 61 of 100\n",
      "building tree 62 of 100\n",
      "building tree 63 of 100\n",
      "building tree 64 of 100\n",
      "building tree 65 of 100\n",
      "building tree 66 of 100\n",
      "building tree 67 of 100\n",
      "building tree 68 of 100\n",
      "building tree 69 of 100\n",
      "building tree 70 of 100\n",
      "building tree 71 of 100\n",
      "building tree 72 of 100\n",
      "building tree 73 of 100\n",
      "building tree 74 of 100\n",
      "building tree 75 of 100\n",
      "building tree 76 of 100\n",
      "building tree 77 of 100\n",
      "building tree 78 of 100\n",
      "building tree 79 of 100\n",
      "building tree 80 of 100\n",
      "building tree 81 of 100\n",
      "building tree 82 of 100\n",
      "building tree 83 of 100\n",
      "building tree 84 of 100\n",
      "building tree 85 of 100\n",
      "building tree 86 of 100\n",
      "building tree 87 of 100\n",
      "building tree 88 of 100\n",
      "building tree 89 of 100\n",
      "building tree 90 of 100\n",
      "building tree 91 of 100\n",
      "building tree 92 of 100\n",
      "building tree 93 of 100\n",
      "building tree 94 of 100\n",
      "building tree 95 of 100\n",
      "building tree 96 of 100\n",
      "building tree 97 of 100\n",
      "building tree 98 of 100\n",
      "building tree 99 of 100\n",
      "building tree 100 of 100\n"
     ]
    },
    {
     "name": "stderr",
     "output_type": "stream",
     "text": [
      "[Parallel(n_jobs=-1)]: Done 100 out of 100 | elapsed:  1.5min finished\n",
      "[Parallel(n_jobs=16)]: Using backend ThreadingBackend with 16 concurrent workers.\n"
     ]
    },
    {
     "name": "stdout",
     "output_type": "stream",
     "text": [
      "CPU times: user 2h 13min 16s, sys: 5.74 s, total: 2h 13min 22s\n",
      "Wall time: 9min 38s\n"
     ]
    },
    {
     "name": "stderr",
     "output_type": "stream",
     "text": [
      "[Parallel(n_jobs=16)]: Done 100 out of 100 | elapsed:    1.5s finished\n"
     ]
    }
   ],
   "source": [
    "%%time\n",
    "#\n",
    "_,features = X_test_summary.shape\n",
    "accuracy_list_summary = {}\n",
    "\n",
    "\n",
    "## our grid exaustive search parameters\n",
    "m_features_names = [\"2 sqrt(M)\", \"sqrt(M)\", \"log2(M)\"]\n",
    "m_features = [int(2*math.sqrt(features)), int(math.sqrt(features)), int(math.log2(features))]\n",
    "num_trees = [20,50,100]\n",
    "\n",
    "for m,m_name in zip(m_features,m_features_names):\n",
    "    accuracy_list_summary[m_name] = []\n",
    "    for tr in num_trees:\n",
    "        rfc_rating = RandomForestClassifier(n_estimators=tr,max_features=m,n_jobs=-1,verbose=3, random_state=42 )\n",
    "        rfc_rating.fit(X_train_summary, y_train)\n",
    "        accuracy = rfc_rating.score(X_test_summary, y_test)\n",
    "        accuracy_list_summary[m_name].append(accuracy)"
   ]
  },
  {
   "cell_type": "code",
   "execution_count": 22,
   "metadata": {},
   "outputs": [
    {
     "data": {
      "text/plain": [
       "{'2 sqrt(M)': [0.7277215687007911, 0.7334817003609433, 0.7351461539900133],\n",
       " 'log2(M)': [0.7206523162087861, 0.7310130725065923, 0.7325279123263078],\n",
       " 'sqrt(M)': [0.7262628340595837, 0.7321538778029212, 0.7344354883955789]}"
      ]
     },
     "execution_count": 22,
     "metadata": {},
     "output_type": "execute_result"
    }
   ],
   "source": [
    "# printing our accuracy list dictionary\n",
    "accuracy_list_summary\n",
    "# max accuracy reached was 0.7350 at 100 trees and m = 2sqrt(M)\n",
    "# results may vary every time"
   ]
  },
  {
   "cell_type": "markdown",
   "metadata": {},
   "source": [
    "**Max accuracy was reached at 100 trees with m= 2sqrt(M)**\n",
    "**Accuracy was aprox 73.51%**\n",
    "\n",
    "Note values might differ a bit every time due to randomness in building trees"
   ]
  },
  {
   "cell_type": "code",
   "execution_count": 23,
   "metadata": {},
   "outputs": [
    {
     "data": {
      "text/plain": [
       "<matplotlib.legend.Legend at 0x7fc4733a4128>"
      ]
     },
     "execution_count": 23,
     "metadata": {},
     "output_type": "execute_result"
    },
    {
     "data": {
      "image/png": "[encoded data removed]",
      "text/plain": [
       "<Figure size 432x288 with 1 Axes>"
      ]
     },
     "metadata": {
      "needs_background": "light"
     },
     "output_type": "display_data"
    }
   ],
   "source": [
    "plt.plot(num_trees, accuracy_list_summary['2 sqrt(M)'],label='2 x sqrt(M)')\n",
    "plt.plot(num_trees, accuracy_list_summary['log2(M)'],label='log2(M')\n",
    "plt.plot(num_trees, accuracy_list_summary['sqrt(M)'],label='sqrt(M)')\n",
    "plt.xlabel('Number of trees')\n",
    "plt.ylabel('Accuracy')\n",
    "plt.legend(loc='lower right')"
   ]
  },
  {
   "cell_type": "code",
   "execution_count": 24,
   "metadata": {},
   "outputs": [
    {
     "name": "stderr",
     "output_type": "stream",
     "text": [
      "/usr/local/lib/python3.5/dist-packages/matplotlib/pyplot.py:880: MatplotlibDeprecationWarning: \n",
      "Using pyplot.axes(ax) with ax an Axes argument is deprecated. Please use pyplot.sca(ax) instead.\n",
      "  message=\"Using pyplot.axes(ax) with ax an Axes \"\n"
     ]
    },
    {
     "data": {
      "image/png": "[encoded data removed]",
      "text/plain": [
       "<Figure size 432x288 with 1 Axes>"
      ]
     },
     "metadata": {
      "needs_background": "light"
     },
     "output_type": "display_data"
    }
   ],
   "source": [
    "new_list = list(accuracy_list_summary.values())\n",
    "fig, ax = plt.subplots()\n",
    "\n",
    "index = np.arange(len(new_list[0]))\n",
    "\n",
    "p1 = ax.bar(index - 0.2, new_list[0], 0.2, label='2 x sqrt(M)')\n",
    "p2 = ax.bar(index , new_list[1], 0.2, label='sqrt(M)')\n",
    "p3 = ax.bar(index + 0.2, new_list[2], 0.2, label='log2(M)')\n",
    "\n",
    "ax.set_xticks(index + 0.2/3)\n",
    "ax.set_xticklabels(['20', '50', '100'])\n",
    "ax.set_ylim(0, 1)\n",
    "ax.set_xlabel('Number of trees')\n",
    "ax.set_ylabel('Accuracy')\n",
    "\n",
    "plt.axes(ax)\n",
    "\n",
    "plt.legend(loc='lower right')\n",
    "plt.show()"
   ]
  },
  {
   "cell_type": "markdown",
   "metadata": {},
   "source": [
    "## XG-Boost for prediction of rating\n",
    "- we predict rating on the basis of summarized review. (For XGBoost Classifier)"
   ]
  },
  {
   "cell_type": "code",
   "execution_count": 25,
   "metadata": {},
   "outputs": [],
   "source": [
    "# Assign labels y_train and y_test\n",
    "y_train = df_train.rating.copy(deep=True)\n",
    "y_test = df_test.rating.copy(deep=True)"
   ]
  },
  {
   "cell_type": "code",
   "execution_count": 26,
   "metadata": {},
   "outputs": [
    {
     "name": "stdout",
     "output_type": "stream",
     "text": [
      "Started training model\n",
      "Accuracy for model with depth  10  is : 0.4237250098184062\n",
      "Started training model\n",
      "Accuracy for model with depth  15  is : 0.49524041068990665\n",
      "Started training model\n",
      "Accuracy for model with depth  20  is : 0.5600979970451273\n",
      "CPU times: user 2h 17min 16s, sys: 2.44 s, total: 2h 17min 18s\n",
      "Wall time: 2h 17min 17s\n"
     ]
    }
   ],
   "source": [
    "%%time\n",
    "\n",
    "from xgboost import XGBClassifier\n",
    "from sklearn.metrics import accuracy_score\n",
    "\n",
    "acc_list = []\n",
    "max_depth = [10,15,20]\n",
    "for md in max_depth:\n",
    "    print(\"Started training model\")\n",
    "    model = XGBClassifier(max_depth = md)\n",
    "    model.fit(X_train_summary, y_train)\n",
    "    y_pred = model.predict(X_test_summary)\n",
    "    predictions = [round(value) for value in y_pred]\n",
    "    accuracy = accuracy_score(y_test, predictions)\n",
    "    print(\"Accuracy for model with depth \",md,\" is :\",accuracy)\n",
    "    acc_list.append(accuracy)\n",
    "    "
   ]
  },
  {
   "cell_type": "code",
   "execution_count": 27,
   "metadata": {},
   "outputs": [
    {
     "data": {
      "text/plain": [
       "<matplotlib.legend.Legend at 0x7fc473728400>"
      ]
     },
     "execution_count": 27,
     "metadata": {},
     "output_type": "execute_result"
    },
    {
     "data": {
      "image/png": "[encoded data removed]",
      "text/plain": [
       "<Figure size 432x288 with 1 Axes>"
      ]
     },
     "metadata": {
      "needs_background": "light"
     },
     "output_type": "display_data"
    }
   ],
   "source": [
    "#plotting graphs for xgBoost on rating prediction\n",
    "plt.plot(max_depth, acc_list,label='Test accuracy')\n",
    "plt.xlabel('max depth')\n",
    "plt.ylabel('Accuracy')\n",
    "plt.legend(loc='lower right')"
   ]
  },
  {
   "cell_type": "markdown",
   "metadata": {},
   "source": [
    "**Max accuracy reached was at max_depth=20, Accuracy was aprox 56%** \n",
    "\n",
    "Training time for XGBoost was quite high so we decided not to further tune the hyperparameters."
   ]
  },
  {
   "cell_type": "markdown",
   "metadata": {},
   "source": [
    "## Neural network\n",
    "- we train our neural network on full review and on summary of review\n",
    " to predict rating"
   ]
  },
  {
   "cell_type": "code",
   "execution_count": 28,
   "metadata": {},
   "outputs": [],
   "source": [
    "def get_model(X,shape=10):\n",
    "    model = Sequential()\n",
    "\n",
    "    # Dense-1\n",
    "    model.add(Dense(500, input_shape=(X.shape[1],)))\n",
    "    model.add(BatchNormalization())\n",
    "    model.add(Activation('relu'))\n",
    "    model.add(Dropout(0.5))\n",
    "\n",
    "    # Dense-2\n",
    "    model.add(Dense(300))\n",
    "    model.add(BatchNormalization())\n",
    "    model.add(Activation('relu'))\n",
    "    model.add(Dropout(0.5))\n",
    "\n",
    "    # Dense-3\n",
    "    model.add(Dense(shape, activation='sigmoid'))\n",
    "    return model\n"
   ]
  },
  {
   "cell_type": "code",
   "execution_count": 29,
   "metadata": {},
   "outputs": [
    {
     "name": "stderr",
     "output_type": "stream",
     "text": [
      "/usr/local/lib/python3.5/dist-packages/sklearn/preprocessing/_encoders.py:415: FutureWarning: The handling of integer data will change in version 0.22. Currently, the categories are determined based on the range [0, max(values)], while in the future they will be determined based on the unique values.\n",
      "If you want the future behaviour and silence this warning, you can specify \"categories='auto'\".\n",
      "In case you used a LabelEncoder before this OneHotEncoder to convert the categories to integers, then you can now use the OneHotEncoder directly.\n",
      "  warnings.warn(msg, FutureWarning)\n"
     ]
    }
   ],
   "source": [
    "#One hot encoding our output\n",
    "oe = OneHotEncoder()\n",
    "y_train = oe.fit_transform(np.array(y_train).reshape(-1,1))\n",
    "y_test = oe.transform(np.array(y_test).reshape(-1,1))"
   ]
  },
  {
   "cell_type": "code",
   "execution_count": 30,
   "metadata": {},
   "outputs": [
    {
     "name": "stdout",
     "output_type": "stream",
     "text": [
      "WARNING:tensorflow:From /usr/local/lib/python3.5/dist-packages/tensorflow_core/python/ops/resource_variable_ops.py:1630: calling BaseResourceVariable.__init__ (from tensorflow.python.ops.resource_variable_ops) with constraint is deprecated and will be removed in a future version.\n",
      "Instructions for updating:\n",
      "If using Keras pass *_constraint arguments to layers.\n",
      "WARNING:tensorflow:From /usr/local/lib/python3.5/dist-packages/tensorflow_core/python/ops/math_grad.py:1424: where (from tensorflow.python.ops.array_ops) is deprecated and will be removed in a future version.\n",
      "Instructions for updating:\n",
      "Use tf.where in 2.0, which has the same broadcast rule as np.where\n",
      "WARNING:tensorflow:From /usr/local/lib/python3.5/dist-packages/keras/backend/tensorflow_backend.py:422: The name tf.global_variables is deprecated. Please use tf.compat.v1.global_variables instead.\n",
      "\n",
      "Train on 160398 samples, validate on 53471 samples\n",
      "Epoch 1/20\n",
      "160398/160398 [==============================] - 92s 571us/step - loss: 1.6412 - acc: 0.4132 - val_loss: 1.4790 - val_acc: 0.4672\n",
      "Epoch 2/20\n",
      "160398/160398 [==============================] - 90s 560us/step - loss: 1.2887 - acc: 0.5364 - val_loss: 1.3079 - val_acc: 0.5530\n",
      "Epoch 3/20\n",
      "160398/160398 [==============================] - 89s 557us/step - loss: 0.9738 - acc: 0.6596 - val_loss: 1.1838 - val_acc: 0.6199\n",
      "Epoch 4/20\n",
      "160398/160398 [==============================] - 89s 553us/step - loss: 0.7291 - acc: 0.7507 - val_loss: 1.1073 - val_acc: 0.6636\n",
      "Epoch 5/20\n",
      "160398/160398 [==============================] - 89s 555us/step - loss: 0.5782 - acc: 0.8063 - val_loss: 1.0649 - val_acc: 0.6950\n",
      "Epoch 6/20\n",
      "160398/160398 [==============================] - 88s 552us/step - loss: 0.4648 - acc: 0.8473 - val_loss: 1.0383 - val_acc: 0.7110\n",
      "Epoch 7/20\n",
      "160398/160398 [==============================] - 88s 550us/step - loss: 0.3992 - acc: 0.8683 - val_loss: 1.0426 - val_acc: 0.7206\n",
      "Epoch 8/20\n",
      "160398/160398 [==============================] - 88s 549us/step - loss: 0.3454 - acc: 0.8873 - val_loss: 1.0449 - val_acc: 0.7282\n",
      "Epoch 9/20\n",
      "160398/160398 [==============================] - 89s 553us/step - loss: 0.3101 - acc: 0.8984 - val_loss: 1.0696 - val_acc: 0.7319\n",
      "Epoch 10/20\n",
      "160398/160398 [==============================] - 88s 550us/step - loss: 0.2830 - acc: 0.9080 - val_loss: 1.0626 - val_acc: 0.7335\n",
      "Epoch 11/20\n",
      "160398/160398 [==============================] - 88s 547us/step - loss: 0.2618 - acc: 0.9151 - val_loss: 1.0875 - val_acc: 0.7410\n",
      "Epoch 12/20\n",
      "160398/160398 [==============================] - 88s 549us/step - loss: 0.2421 - acc: 0.9223 - val_loss: 1.1119 - val_acc: 0.7430\n",
      "Epoch 13/20\n",
      "160398/160398 [==============================] - 88s 548us/step - loss: 0.2299 - acc: 0.9259 - val_loss: 1.1163 - val_acc: 0.7395\n",
      "Epoch 14/20\n",
      "160398/160398 [==============================] - 88s 549us/step - loss: 0.2119 - acc: 0.9320 - val_loss: 1.1509 - val_acc: 0.7433\n",
      "Epoch 15/20\n",
      "160398/160398 [==============================] - 88s 552us/step - loss: 0.2060 - acc: 0.9341 - val_loss: 1.1501 - val_acc: 0.7409\n",
      "Epoch 16/20\n",
      "160398/160398 [==============================] - 88s 552us/step - loss: 0.1945 - acc: 0.9377 - val_loss: 1.1626 - val_acc: 0.7394\n",
      "Epoch 17/20\n",
      "160398/160398 [==============================] - 88s 551us/step - loss: 0.1899 - acc: 0.9392 - val_loss: 1.1816 - val_acc: 0.7417\n",
      "Epoch 18/20\n",
      "160398/160398 [==============================] - 88s 547us/step - loss: 0.1797 - acc: 0.9423 - val_loss: 1.1704 - val_acc: 0.7422\n",
      "Epoch 19/20\n",
      "160398/160398 [==============================] - 88s 546us/step - loss: 0.1720 - acc: 0.9446 - val_loss: 1.1915 - val_acc: 0.7458\n",
      "Epoch 20/20\n",
      "160398/160398 [==============================] - 87s 544us/step - loss: 0.1680 - acc: 0.9465 - val_loss: 1.1769 - val_acc: 0.7401\n"
     ]
    }
   ],
   "source": [
    "model = get_model(X_train)\n",
    "model.compile(loss='categorical_crossentropy', metrics=['acc'], optimizer=Adam(lr=0.01))\n",
    "\n",
    "reduce_lr = ReduceLROnPlateau(monitor='val_loss', factor=0.2, patience=3, min_lr=0.00001)\n",
    "\n",
    "def lr_schedule(epoch):\n",
    "    if(epoch <= 5):\n",
    "        return 1e-2\n",
    "    elif(epoch <= 10):\n",
    "        return 1e-3\n",
    "    elif(epoch <= 15):\n",
    "        return 1e-4\n",
    "    else:\n",
    "        return 1e-5\n",
    "    \n",
    "keras.callbacks.LearningRateScheduler(lr_schedule)\n",
    "model_history = model.fit(X_train, y_train, epochs=20, batch_size=256, validation_data=(X_test, y_test))"
   ]
  },
  {
   "cell_type": "markdown",
   "metadata": {},
   "source": [
    "**Accuracy on test reached after 20 epoch 74.01%**"
   ]
  },
  {
   "cell_type": "code",
   "execution_count": 31,
   "metadata": {},
   "outputs": [
    {
     "data": {
      "image/png": "[encoded data removed]",
      "text/plain": [
       "<Figure size 432x288 with 1 Axes>"
      ]
     },
     "metadata": {
      "needs_background": "light"
     },
     "output_type": "display_data"
    },
    {
     "data": {
      "image/png": "[encoded data removed]",
      "text/plain": [
       "<Figure size 432x288 with 1 Axes>"
      ]
     },
     "metadata": {
      "needs_background": "light"
     },
     "output_type": "display_data"
    }
   ],
   "source": [
    "# summarize history for accuracy\n",
    "plt.plot(model_history.history['acc'])\n",
    "plt.plot(model_history.history['val_acc'])\n",
    "plt.title('model accuracy')\n",
    "plt.ylabel('acc')\n",
    "plt.xlabel('epoch')\n",
    "plt.legend(['train', 'test'], loc='upper left')\n",
    "plt.show()\n",
    "# summarize history for loss\n",
    "plt.plot(model_history.history['loss'])\n",
    "plt.plot(model_history.history['val_loss'])\n",
    "plt.title('model loss')\n",
    "plt.ylabel('loss')\n",
    "plt.xlabel('epoch')\n",
    "plt.legend(['train', 'test'], loc='upper left')\n",
    "plt.show()"
   ]
  },
  {
   "cell_type": "markdown",
   "metadata": {},
   "source": [
    "## Prediction of rating based on summary\n",
    "- using neural network"
   ]
  },
  {
   "cell_type": "code",
   "execution_count": 33,
   "metadata": {},
   "outputs": [
    {
     "name": "stdout",
     "output_type": "stream",
     "text": [
      "Train on 160398 samples, validate on 53471 samples\n",
      "Epoch 1/20\n",
      "160398/160398 [==============================] - 45s 281us/step - loss: 1.7961 - acc: 0.3653 - val_loss: 1.6751 - val_acc: 0.4054\n",
      "Epoch 2/20\n",
      "160398/160398 [==============================] - 45s 283us/step - loss: 1.5450 - acc: 0.4473 - val_loss: 1.5557 - val_acc: 0.4614\n",
      "Epoch 3/20\n",
      "160398/160398 [==============================] - 45s 281us/step - loss: 1.3165 - acc: 0.5372 - val_loss: 1.4470 - val_acc: 0.5148\n",
      "Epoch 4/20\n",
      "160398/160398 [==============================] - 45s 280us/step - loss: 1.0958 - acc: 0.6242 - val_loss: 1.3665 - val_acc: 0.5642\n",
      "Epoch 5/20\n",
      "160398/160398 [==============================] - 46s 285us/step - loss: 0.9294 - acc: 0.6844 - val_loss: 1.2933 - val_acc: 0.5985\n",
      "Epoch 6/20\n",
      "160398/160398 [==============================] - 45s 280us/step - loss: 0.8042 - acc: 0.7308 - val_loss: 1.2538 - val_acc: 0.6234\n",
      "Epoch 7/20\n",
      "160398/160398 [==============================] - 44s 276us/step - loss: 0.7093 - acc: 0.7636 - val_loss: 1.2409 - val_acc: 0.6429\n",
      "Epoch 8/20\n",
      "160398/160398 [==============================] - 44s 275us/step - loss: 0.6406 - acc: 0.7870 - val_loss: 1.2284 - val_acc: 0.6567\n",
      "Epoch 9/20\n",
      "160398/160398 [==============================] - 45s 281us/step - loss: 0.5847 - acc: 0.8064 - val_loss: 1.2123 - val_acc: 0.6659\n",
      "Epoch 10/20\n",
      "160398/160398 [==============================] - 45s 279us/step - loss: 0.5400 - acc: 0.8226 - val_loss: 1.2138 - val_acc: 0.6720\n",
      "Epoch 11/20\n",
      "160398/160398 [==============================] - 44s 276us/step - loss: 0.5033 - acc: 0.8337 - val_loss: 1.1873 - val_acc: 0.6792\n",
      "Epoch 12/20\n",
      "160398/160398 [==============================] - 44s 274us/step - loss: 0.4749 - acc: 0.8430 - val_loss: 1.2126 - val_acc: 0.6845\n",
      "Epoch 13/20\n",
      "160398/160398 [==============================] - 44s 274us/step - loss: 0.4509 - acc: 0.8518 - val_loss: 1.2157 - val_acc: 0.6882\n",
      "Epoch 14/20\n",
      "160398/160398 [==============================] - 44s 274us/step - loss: 0.4251 - acc: 0.8599 - val_loss: 1.2515 - val_acc: 0.6926\n",
      "Epoch 15/20\n",
      "160398/160398 [==============================] - 44s 276us/step - loss: 0.4110 - acc: 0.8654 - val_loss: 1.2249 - val_acc: 0.6967\n",
      "Epoch 16/20\n",
      "160398/160398 [==============================] - 45s 281us/step - loss: 0.3905 - acc: 0.8724 - val_loss: 1.2224 - val_acc: 0.6995\n",
      "Epoch 17/20\n",
      "160398/160398 [==============================] - 45s 278us/step - loss: 0.3758 - acc: 0.8777 - val_loss: 1.2391 - val_acc: 0.6998\n",
      "Epoch 18/20\n",
      "160398/160398 [==============================] - 44s 275us/step - loss: 0.3663 - acc: 0.8805 - val_loss: 1.2307 - val_acc: 0.7013\n",
      "Epoch 19/20\n",
      "160398/160398 [==============================] - 44s 275us/step - loss: 0.3497 - acc: 0.8859 - val_loss: 1.2624 - val_acc: 0.7052\n",
      "Epoch 20/20\n",
      "160398/160398 [==============================] - 44s 273us/step - loss: 0.3416 - acc: 0.8878 - val_loss: 1.2729 - val_acc: 0.7050\n"
     ]
    }
   ],
   "source": [
    "model = get_model(X_train_summary)\n",
    "model.compile(loss='categorical_crossentropy', metrics=['acc'], optimizer=Adam(lr=0.01))\n",
    "    \n",
    "keras.callbacks.LearningRateScheduler(lr_schedule)\n",
    "model_history_summary= model.fit(X_train_summary, y_train, epochs=20, batch_size=256, validation_data=(X_test_summary, y_test))"
   ]
  },
  {
   "cell_type": "markdown",
   "metadata": {},
   "source": [
    "Training neural network on summary of reviews\n",
    "\n",
    "**Accuracy after 20 epochs, on test set was 70.50%**"
   ]
  },
  {
   "cell_type": "code",
   "execution_count": 34,
   "metadata": {},
   "outputs": [
    {
     "data": {
      "image/png": "[encoded data removed]",
      "text/plain": [
       "<Figure size 432x288 with 1 Axes>"
      ]
     },
     "metadata": {
      "needs_background": "light"
     },
     "output_type": "display_data"
    },
    {
     "data": {
      "image/png": "[encoded data removed]",
      "text/plain": [
       "<Figure size 432x288 with 1 Axes>"
      ]
     },
     "metadata": {
      "needs_background": "light"
     },
     "output_type": "display_data"
    }
   ],
   "source": [
    "# summarize history for accuracy\n",
    "plt.plot(model_history_summary.history['acc'])\n",
    "plt.plot(model_history_summary.history['val_acc'])\n",
    "plt.title('model accuracy')\n",
    "plt.ylabel('acc')\n",
    "plt.xlabel('epoch')\n",
    "plt.legend(['train', 'test'], loc='upper left')\n",
    "plt.show()\n",
    "# summarize history for loss\n",
    "plt.plot(model_history_summary.history['loss'])\n",
    "plt.plot(model_history_summary.history['val_loss'])\n",
    "plt.title('model loss')\n",
    "plt.ylabel('loss')\n",
    "plt.xlabel('epoch')\n",
    "plt.legend(['train', 'test'], loc='upper left')\n",
    "plt.show()"
   ]
  },
  {
   "cell_type": "markdown",
   "metadata": {},
   "source": [
    "# Train our models on sentiments\n",
    "- we now train our model on review sentiments, which were created using vader analyzer\n",
    "- Since sentiments are extracted from summarized reviews, we train our models on these summarized reviews.\n"
   ]
  },
  {
   "cell_type": "code",
   "execution_count": 35,
   "metadata": {},
   "outputs": [],
   "source": [
    "y_train = df_train.sentiment\n",
    "y_test = df_test.sentiment"
   ]
  },
  {
   "cell_type": "markdown",
   "metadata": {},
   "source": [
    "## Random forest for sentiment prediction\n",
    "- we predict sentiment on basis of summary of review"
   ]
  },
  {
   "cell_type": "code",
   "execution_count": 37,
   "metadata": {},
   "outputs": [
    {
     "name": "stderr",
     "output_type": "stream",
     "text": [
      "[Parallel(n_jobs=-1)]: Using backend ThreadingBackend with 16 concurrent workers.\n"
     ]
    },
    {
     "name": "stdout",
     "output_type": "stream",
     "text": [
      "building tree 1 of 20\n",
      "building tree 2 of 20\n",
      "building tree 3 of 20\n",
      "building tree 4 of 20\n",
      "building tree 5 of 20\n",
      "building tree 6 of 20\n",
      "building tree 7 of 20\n",
      "building tree 8 of 20\n",
      "building tree 9 of 20\n",
      "building tree 10 of 20\n",
      "building tree 11 of 20\n",
      "building tree 12 of 20\n",
      "building tree 13 of 20\n",
      "building tree 14 of 20\n",
      "building tree 15 of 20\n",
      "building tree 16 of 20\n",
      "building tree 17 of 20\n",
      "building tree 18 of 20\n",
      "building tree 19 of 20\n",
      "building tree 20 of 20\n"
     ]
    },
    {
     "name": "stderr",
     "output_type": "stream",
     "text": [
      "[Parallel(n_jobs=-1)]: Done   3 out of  20 | elapsed:   11.5s remaining:  1.1min\n",
      "[Parallel(n_jobs=-1)]: Done  10 out of  20 | elapsed:   11.8s remaining:   11.8s\n",
      "[Parallel(n_jobs=-1)]: Done  17 out of  20 | elapsed:   19.3s remaining:    3.4s\n",
      "[Parallel(n_jobs=-1)]: Done  20 out of  20 | elapsed:   20.0s finished\n",
      "[Parallel(n_jobs=16)]: Using backend ThreadingBackend with 16 concurrent workers.\n",
      "[Parallel(n_jobs=16)]: Done   3 out of  20 | elapsed:    0.1s remaining:    0.4s\n",
      "[Parallel(n_jobs=16)]: Done  10 out of  20 | elapsed:    0.1s remaining:    0.1s\n",
      "[Parallel(n_jobs=16)]: Done  17 out of  20 | elapsed:    0.1s remaining:    0.0s\n",
      "[Parallel(n_jobs=16)]: Done  20 out of  20 | elapsed:    0.1s finished\n",
      "[Parallel(n_jobs=-1)]: Using backend ThreadingBackend with 16 concurrent workers.\n"
     ]
    },
    {
     "name": "stdout",
     "output_type": "stream",
     "text": [
      "building tree 1 of 50\n",
      "building tree 2 of 50\n",
      "building tree 3 of 50\n",
      "building tree 4 of 50\n",
      "building tree 5 of 50\n",
      "building tree 6 of 50\n",
      "building tree 7 of 50\n",
      "building tree 8 of 50\n",
      "building tree 9 of 50\n",
      "building tree 10 of 50\n",
      "building tree 11 of 50\n",
      "building tree 12 of 50\n",
      "building tree 13 of 50\n",
      "building tree 14 of 50\n",
      "building tree 15 of 50\n",
      "building tree 16 of 50\n",
      "building tree 17 of 50\n",
      "building tree 18 of 50\n",
      "building tree 19 of 50\n",
      "building tree 20 of 50\n",
      "building tree 21 of 50\n",
      "building tree 22 of 50\n",
      "building tree 23 of 50\n",
      "building tree 24 of 50\n",
      "building tree 25 of 50\n",
      "building tree 26 of 50\n",
      "building tree 27 of 50\n",
      "building tree 28 of 50\n",
      "building tree 29 of 50\n",
      "building tree 30 of 50\n",
      "building tree 31 of 50\n",
      "building tree 32 of 50\n",
      "building tree 33 of 50\n",
      "building tree 34 of 50\n",
      "building tree 35 of 50\n",
      "building tree 36 of 50\n",
      "building tree 37 of 50\n",
      "building tree 38 of 50\n",
      "building tree 39 of 50\n",
      "building tree 40 of 50\n",
      "building tree 41 of 50\n",
      "building tree 42 of 50\n",
      "building tree 43 of 50\n",
      "building tree 44 of 50\n",
      "building tree 45 of 50\n",
      "building tree 46 of 50\n",
      "building tree 47 of 50\n",
      "building tree 48 of 50\n",
      "building tree 49 of 50\n",
      "building tree 50 of 50\n"
     ]
    },
    {
     "name": "stderr",
     "output_type": "stream",
     "text": [
      "[Parallel(n_jobs=-1)]: Done  36 out of  50 | elapsed:   34.9s remaining:   13.6s\n",
      "[Parallel(n_jobs=-1)]: Done  50 out of  50 | elapsed:   43.1s finished\n",
      "[Parallel(n_jobs=16)]: Using backend ThreadingBackend with 16 concurrent workers.\n",
      "[Parallel(n_jobs=16)]: Done  36 out of  50 | elapsed:    0.2s remaining:    0.1s\n",
      "[Parallel(n_jobs=16)]: Done  50 out of  50 | elapsed:    0.3s finished\n",
      "[Parallel(n_jobs=-1)]: Using backend ThreadingBackend with 16 concurrent workers.\n"
     ]
    },
    {
     "name": "stdout",
     "output_type": "stream",
     "text": [
      "building tree 1 of 100\n",
      "building tree 2 of 100\n",
      "building tree 3 of 100\n",
      "building tree 4 of 100\n",
      "building tree 5 of 100\n",
      "building tree 6 of 100\n",
      "building tree 7 of 100\n",
      "building tree 8 of 100\n",
      "building tree 9 of 100\n",
      "building tree 10 of 100\n",
      "building tree 11 of 100\n",
      "building tree 12 of 100\n",
      "building tree 13 of 100\n",
      "building tree 14 of 100\n",
      "building tree 15 of 100\n",
      "building tree 16 of 100\n",
      "building tree 17 of 100\n",
      "building tree 18 of 100\n",
      "building tree 19 of 100\n",
      "building tree 20 of 100\n",
      "building tree 21 of 100\n",
      "building tree 22 of 100\n",
      "building tree 23 of 100\n",
      "building tree 24 of 100\n",
      "building tree 25 of 100\n",
      "building tree 26 of 100\n",
      "building tree 27 of 100\n",
      "building tree 28 of 100\n",
      "building tree 29 of 100\n",
      "building tree 30 of 100\n",
      "building tree 31 of 100\n",
      "building tree 32 of 100\n",
      "building tree 33 of 100\n",
      "building tree 34 of 100\n",
      "building tree 35 of 100\n",
      "building tree 36 of 100\n",
      "building tree 37 of 100\n",
      "building tree 38 of 100\n",
      "building tree 39 of 100\n",
      "building tree 40 of 100\n",
      "building tree 41 of 100\n",
      "building tree 42 of 100\n",
      "building tree 43 of 100\n",
      "building tree 44 of 100\n",
      "building tree 45 of 100\n",
      "building tree 46 of 100\n",
      "building tree 47 of 100\n",
      "building tree 48 of 100\n",
      "building tree 49 of 100\n",
      "building tree 50 of 100\n",
      "building tree 51 of 100\n",
      "building tree 52 of 100\n",
      "building tree 53 of 100\n",
      "building tree 54 of 100\n",
      "building tree 55 of 100\n",
      "building tree 56 of 100\n",
      "building tree 57 of 100\n",
      "building tree 58 of 100\n",
      "building tree 59 of 100\n",
      "building tree 60 of 100\n",
      "building tree 61 of 100\n",
      "building tree 62 of 100\n",
      "building tree 63 of 100\n",
      "building tree 64 of 100\n",
      "building tree 65 of 100\n",
      "building tree 66 of 100\n",
      "building tree 67 of 100\n",
      "building tree 68 of 100\n",
      "building tree 69 of 100\n",
      "building tree 70 of 100\n",
      "building tree 71 of 100\n",
      "building tree 72 of 100\n",
      "building tree 73 of 100\n",
      "building tree 74 of 100\n",
      "building tree 75 of 100\n",
      "building tree 76 of 100\n",
      "building tree 77 of 100\n",
      "building tree 78 of 100\n",
      "building tree 79 of 100\n",
      "building tree 80 of 100\n",
      "building tree 81 of 100\n",
      "building tree 82 of 100\n",
      "building tree 83 of 100\n",
      "building tree 84 of 100\n",
      "building tree 85 of 100\n",
      "building tree 86 of 100\n",
      "building tree 87 of 100\n",
      "building tree 88 of 100\n",
      "building tree 89 of 100\n",
      "building tree 90 of 100\n",
      "building tree 91 of 100\n",
      "building tree 92 of 100\n",
      "building tree 93 of 100\n",
      "building tree 94 of 100\n",
      "building tree 95 of 100\n",
      "building tree 96 of 100\n",
      "building tree 97 of 100\n",
      "building tree 98 of 100\n",
      "building tree 99 of 100\n",
      "building tree 100 of 100\n"
     ]
    },
    {
     "name": "stderr",
     "output_type": "stream",
     "text": [
      "[Parallel(n_jobs=-1)]: Done 100 out of 100 | elapsed:  1.3min finished\n",
      "[Parallel(n_jobs=16)]: Using backend ThreadingBackend with 16 concurrent workers.\n",
      "[Parallel(n_jobs=16)]: Done 100 out of 100 | elapsed:    0.5s finished\n",
      "[Parallel(n_jobs=-1)]: Using backend ThreadingBackend with 16 concurrent workers.\n"
     ]
    },
    {
     "name": "stdout",
     "output_type": "stream",
     "text": [
      "building tree 1 of 20\n",
      "building tree 2 of 20\n",
      "building tree 3 of 20\n",
      "building tree 4 of 20\n",
      "building tree 5 of 20\n",
      "building tree 6 of 20\n",
      "building tree 7 of 20\n",
      "building tree 8 of 20\n",
      "building tree 9 of 20\n",
      "building tree 10 of 20\n",
      "building tree 11 of 20\n",
      "building tree 12 of 20\n",
      "building tree 13 of 20\n",
      "building tree 14 of 20\n",
      "building tree 15 of 20\n",
      "building tree 16 of 20\n",
      "building tree 17 of 20\n",
      "building tree 18 of 20\n",
      "building tree 19 of 20\n",
      "building tree 20 of 20\n"
     ]
    },
    {
     "name": "stderr",
     "output_type": "stream",
     "text": [
      "[Parallel(n_jobs=-1)]: Done   3 out of  20 | elapsed:   10.1s remaining:   57.5s\n",
      "[Parallel(n_jobs=-1)]: Done  10 out of  20 | elapsed:   10.3s remaining:   10.3s\n",
      "[Parallel(n_jobs=-1)]: Done  17 out of  20 | elapsed:   17.1s remaining:    3.0s\n",
      "[Parallel(n_jobs=-1)]: Done  20 out of  20 | elapsed:   17.3s finished\n",
      "[Parallel(n_jobs=16)]: Using backend ThreadingBackend with 16 concurrent workers.\n",
      "[Parallel(n_jobs=16)]: Done   3 out of  20 | elapsed:    0.1s remaining:    0.5s\n",
      "[Parallel(n_jobs=16)]: Done  10 out of  20 | elapsed:    0.1s remaining:    0.1s\n",
      "[Parallel(n_jobs=16)]: Done  17 out of  20 | elapsed:    0.1s remaining:    0.0s\n",
      "[Parallel(n_jobs=16)]: Done  20 out of  20 | elapsed:    0.2s finished\n",
      "[Parallel(n_jobs=-1)]: Using backend ThreadingBackend with 16 concurrent workers.\n"
     ]
    },
    {
     "name": "stdout",
     "output_type": "stream",
     "text": [
      "building tree 1 of 50\n",
      "building tree 2 of 50\n",
      "building tree 3 of 50\n",
      "building tree 4 of 50\n",
      "building tree 5 of 50\n",
      "building tree 6 of 50\n",
      "building tree 7 of 50\n",
      "building tree 8 of 50\n",
      "building tree 9 of 50\n",
      "building tree 10 of 50\n",
      "building tree 11 of 50\n",
      "building tree 12 of 50\n",
      "building tree 13 of 50\n",
      "building tree 14 of 50\n",
      "building tree 15 of 50\n",
      "building tree 16 of 50\n",
      "building tree 17 of 50\n",
      "building tree 18 of 50\n",
      "building tree 19 of 50\n",
      "building tree 20 of 50\n",
      "building tree 21 of 50\n",
      "building tree 22 of 50\n",
      "building tree 23 of 50\n",
      "building tree 24 of 50\n",
      "building tree 25 of 50\n",
      "building tree 26 of 50\n",
      "building tree 27 of 50\n",
      "building tree 28 of 50\n",
      "building tree 29 of 50\n",
      "building tree 30 of 50\n",
      "building tree 31 of 50\n",
      "building tree 32 of 50\n",
      "building tree 33 of 50\n",
      "building tree 34 of 50\n",
      "building tree 35 of 50\n",
      "building tree 36 of 50\n",
      "building tree 37 of 50\n",
      "building tree 38 of 50\n",
      "building tree 39 of 50\n",
      "building tree 40 of 50\n",
      "building tree 41 of 50\n",
      "building tree 42 of 50\n",
      "building tree 43 of 50\n",
      "building tree 44 of 50\n",
      "building tree 45 of 50\n",
      "building tree 46 of 50\n",
      "building tree 47 of 50\n",
      "building tree 48 of 50\n",
      "building tree 49 of 50\n",
      "building tree 50 of 50\n"
     ]
    },
    {
     "name": "stderr",
     "output_type": "stream",
     "text": [
      "[Parallel(n_jobs=-1)]: Done  36 out of  50 | elapsed:   30.2s remaining:   11.7s\n",
      "[Parallel(n_jobs=-1)]: Done  50 out of  50 | elapsed:   37.3s finished\n",
      "[Parallel(n_jobs=16)]: Using backend ThreadingBackend with 16 concurrent workers.\n",
      "[Parallel(n_jobs=16)]: Done  36 out of  50 | elapsed:    0.2s remaining:    0.1s\n",
      "[Parallel(n_jobs=16)]: Done  50 out of  50 | elapsed:    0.3s finished\n",
      "[Parallel(n_jobs=-1)]: Using backend ThreadingBackend with 16 concurrent workers.\n"
     ]
    },
    {
     "name": "stdout",
     "output_type": "stream",
     "text": [
      "building tree 1 of 100\n",
      "building tree 2 of 100\n",
      "building tree 3 of 100\n",
      "building tree 4 of 100\n",
      "building tree 5 of 100\n",
      "building tree 6 of 100\n",
      "building tree 7 of 100\n",
      "building tree 8 of 100\n",
      "building tree 9 of 100\n",
      "building tree 10 of 100\n",
      "building tree 11 of 100\n",
      "building tree 12 of 100\n",
      "building tree 13 of 100\n",
      "building tree 14 of 100\n",
      "building tree 15 of 100\n",
      "building tree 16 of 100\n",
      "building tree 17 of 100\n",
      "building tree 18 of 100\n",
      "building tree 19 of 100\n",
      "building tree 20 of 100\n",
      "building tree 21 of 100\n",
      "building tree 22 of 100\n",
      "building tree 23 of 100\n",
      "building tree 24 of 100\n",
      "building tree 25 of 100\n",
      "building tree 26 of 100\n",
      "building tree 27 of 100\n",
      "building tree 28 of 100\n",
      "building tree 29 of 100\n",
      "building tree 30 of 100\n",
      "building tree 31 of 100\n",
      "building tree 32 of 100\n",
      "building tree 33 of 100\n",
      "building tree 34 of 100\n",
      "building tree 35 of 100\n",
      "building tree 36 of 100\n",
      "building tree 37 of 100\n",
      "building tree 38 of 100\n",
      "building tree 39 of 100\n",
      "building tree 40 of 100\n",
      "building tree 41 of 100\n",
      "building tree 42 of 100\n",
      "building tree 43 of 100\n",
      "building tree 44 of 100\n",
      "building tree 45 of 100\n",
      "building tree 46 of 100\n",
      "building tree 47 of 100\n",
      "building tree 48 of 100\n",
      "building tree 49 of 100\n",
      "building tree 50 of 100\n",
      "building tree 51 of 100\n",
      "building tree 52 of 100\n",
      "building tree 53 of 100\n",
      "building tree 54 of 100\n",
      "building tree 55 of 100\n",
      "building tree 56 of 100\n",
      "building tree 57 of 100\n",
      "building tree 58 of 100\n",
      "building tree 59 of 100\n",
      "building tree 60 of 100\n",
      "building tree 61 of 100\n",
      "building tree 62 of 100\n",
      "building tree 63 of 100\n",
      "building tree 64 of 100\n",
      "building tree 65 of 100\n",
      "building tree 66 of 100\n",
      "building tree 67 of 100\n",
      "building tree 68 of 100\n",
      "building tree 69 of 100\n",
      "building tree 70 of 100\n",
      "building tree 71 of 100\n",
      "building tree 72 of 100\n",
      "building tree 73 of 100\n",
      "building tree 74 of 100\n",
      "building tree 75 of 100\n",
      "building tree 76 of 100\n",
      "building tree 77 of 100\n",
      "building tree 78 of 100\n",
      "building tree 79 of 100\n",
      "building tree 80 of 100\n",
      "building tree 81 of 100\n",
      "building tree 82 of 100\n",
      "building tree 83 of 100\n",
      "building tree 84 of 100\n",
      "building tree 85 of 100\n",
      "building tree 86 of 100\n",
      "building tree 87 of 100\n",
      "building tree 88 of 100\n",
      "building tree 89 of 100\n",
      "building tree 90 of 100\n",
      "building tree 91 of 100\n",
      "building tree 92 of 100\n",
      "building tree 93 of 100\n",
      "building tree 94 of 100\n",
      "building tree 95 of 100\n",
      "building tree 96 of 100\n",
      "building tree 97 of 100\n",
      "building tree 98 of 100\n",
      "building tree 99 of 100\n",
      "building tree 100 of 100\n"
     ]
    },
    {
     "name": "stderr",
     "output_type": "stream",
     "text": [
      "[Parallel(n_jobs=-1)]: Done 100 out of 100 | elapsed:  1.1min finished\n",
      "[Parallel(n_jobs=16)]: Using backend ThreadingBackend with 16 concurrent workers.\n",
      "[Parallel(n_jobs=16)]: Done 100 out of 100 | elapsed:    0.5s finished\n",
      "[Parallel(n_jobs=-1)]: Using backend ThreadingBackend with 16 concurrent workers.\n"
     ]
    },
    {
     "name": "stdout",
     "output_type": "stream",
     "text": [
      "building tree 1 of 20\n",
      "building tree 2 of 20\n",
      "building tree 3 of 20\n",
      "building tree 4 of 20\n",
      "building tree 5 of 20\n",
      "building tree 6 of 20\n",
      "building tree 7 of 20\n",
      "building tree 8 of 20\n",
      "building tree 9 of 20\n",
      "building tree 10 of 20\n",
      "building tree 11 of 20\n",
      "building tree 12 of 20\n",
      "building tree 13 of 20\n",
      "building tree 14 of 20\n",
      "building tree 15 of 20\n",
      "building tree 16 of 20\n",
      "building tree 17 of 20\n",
      "building tree 18 of 20\n",
      "building tree 19 of 20\n",
      "building tree 20 of 20\n"
     ]
    },
    {
     "name": "stderr",
     "output_type": "stream",
     "text": [
      "[Parallel(n_jobs=-1)]: Done   3 out of  20 | elapsed:    8.7s remaining:   49.4s\n",
      "[Parallel(n_jobs=-1)]: Done  10 out of  20 | elapsed:    9.0s remaining:    9.0s\n",
      "[Parallel(n_jobs=-1)]: Done  17 out of  20 | elapsed:   14.7s remaining:    2.6s\n",
      "[Parallel(n_jobs=-1)]: Done  20 out of  20 | elapsed:   14.9s finished\n",
      "[Parallel(n_jobs=16)]: Using backend ThreadingBackend with 16 concurrent workers.\n",
      "[Parallel(n_jobs=16)]: Done   3 out of  20 | elapsed:    0.2s remaining:    1.1s\n",
      "[Parallel(n_jobs=16)]: Done  10 out of  20 | elapsed:    0.2s remaining:    0.2s\n",
      "[Parallel(n_jobs=16)]: Done  17 out of  20 | elapsed:    0.3s remaining:    0.1s\n",
      "[Parallel(n_jobs=16)]: Done  20 out of  20 | elapsed:    0.3s finished\n",
      "[Parallel(n_jobs=-1)]: Using backend ThreadingBackend with 16 concurrent workers.\n"
     ]
    },
    {
     "name": "stdout",
     "output_type": "stream",
     "text": [
      "building tree 1 of 50\n",
      "building tree 2 of 50\n",
      "building tree 3 of 50\n",
      "building tree 4 of 50\n",
      "building tree 5 of 50\n",
      "building tree 6 of 50building tree 7 of 50building tree 8 of 50\n",
      "building tree 9 of 50building tree 10 of 50\n",
      "building tree 11 of 50\n",
      "\n",
      "building tree 12 of 50\n",
      "building tree 13 of 50\n",
      "\n",
      "building tree 14 of 50\n",
      "building tree 15 of 50\n",
      "\n",
      "building tree 16 of 50\n",
      "building tree 17 of 50\n",
      "building tree 18 of 50\n",
      "building tree 19 of 50\n",
      "building tree 20 of 50\n",
      "building tree 21 of 50\n",
      "building tree 22 of 50\n",
      "building tree 23 of 50\n",
      "building tree 24 of 50\n",
      "building tree 25 of 50\n",
      "building tree 26 of 50\n",
      "building tree 27 of 50\n",
      "building tree 28 of 50building tree 29 of 50\n",
      "\n",
      "building tree 30 of 50\n",
      "building tree 31 of 50\n",
      "building tree 32 of 50\n",
      "building tree 33 of 50\n",
      "building tree 34 of 50\n",
      "building tree 35 of 50\n",
      "building tree 36 of 50\n",
      "building tree 37 of 50\n",
      "building tree 38 of 50\n",
      "building tree 39 of 50\n",
      "building tree 40 of 50\n",
      "building tree 41 of 50\n",
      "building tree 42 of 50\n",
      "building tree 43 of 50\n",
      "building tree 44 of 50\n",
      "building tree 45 of 50\n",
      "building tree 46 of 50\n",
      "building tree 47 of 50\n",
      "building tree 48 of 50\n",
      "building tree 49 of 50\n",
      "building tree 50 of 50\n"
     ]
    },
    {
     "name": "stderr",
     "output_type": "stream",
     "text": [
      "[Parallel(n_jobs=-1)]: Done  36 out of  50 | elapsed:   26.4s remaining:   10.3s\n",
      "[Parallel(n_jobs=-1)]: Done  50 out of  50 | elapsed:   32.3s finished\n",
      "[Parallel(n_jobs=16)]: Using backend ThreadingBackend with 16 concurrent workers.\n",
      "[Parallel(n_jobs=16)]: Done  36 out of  50 | elapsed:    0.6s remaining:    0.2s\n",
      "[Parallel(n_jobs=16)]: Done  50 out of  50 | elapsed:    0.7s finished\n",
      "[Parallel(n_jobs=-1)]: Using backend ThreadingBackend with 16 concurrent workers.\n"
     ]
    },
    {
     "name": "stdout",
     "output_type": "stream",
     "text": [
      "building tree 1 of 100\n",
      "building tree 2 of 100\n",
      "building tree 3 of 100\n",
      "building tree 4 of 100\n",
      "building tree 5 of 100\n",
      "building tree 6 of 100\n",
      "building tree 7 of 100\n",
      "building tree 8 of 100\n",
      "building tree 9 of 100\n",
      "building tree 10 of 100\n",
      "building tree 11 of 100\n",
      "building tree 12 of 100\n",
      "building tree 13 of 100\n",
      "building tree 14 of 100\n",
      "building tree 15 of 100\n",
      "building tree 16 of 100\n",
      "building tree 17 of 100\n",
      "building tree 18 of 100\n",
      "building tree 19 of 100\n",
      "building tree 20 of 100\n",
      "building tree 21 of 100\n",
      "building tree 22 of 100\n",
      "building tree 23 of 100\n",
      "building tree 24 of 100\n",
      "building tree 25 of 100\n",
      "building tree 26 of 100\n",
      "building tree 27 of 100\n",
      "building tree 28 of 100\n",
      "building tree 29 of 100\n",
      "building tree 30 of 100\n",
      "building tree 31 of 100\n",
      "building tree 32 of 100\n",
      "building tree 33 of 100\n",
      "building tree 34 of 100\n",
      "building tree 35 of 100\n",
      "building tree 36 of 100\n",
      "building tree 37 of 100\n",
      "building tree 38 of 100\n",
      "building tree 39 of 100\n",
      "building tree 40 of 100\n",
      "building tree 41 of 100\n",
      "building tree 42 of 100\n",
      "building tree 43 of 100\n",
      "building tree 44 of 100\n",
      "building tree 45 of 100\n",
      "building tree 46 of 100\n",
      "building tree 47 of 100\n",
      "building tree 48 of 100\n",
      "building tree 49 of 100\n",
      "building tree 50 of 100\n",
      "building tree 51 of 100\n",
      "building tree 52 of 100\n",
      "building tree 53 of 100\n",
      "building tree 54 of 100\n",
      "building tree 55 of 100\n",
      "building tree 56 of 100\n",
      "building tree 57 of 100\n",
      "building tree 58 of 100\n",
      "building tree 59 of 100\n",
      "building tree 60 of 100\n",
      "building tree 61 of 100\n",
      "building tree 62 of 100\n",
      "building tree 63 of 100\n",
      "building tree 64 of 100\n",
      "building tree 65 of 100\n",
      "building tree 66 of 100\n",
      "building tree 67 of 100\n",
      "building tree 68 of 100\n",
      "building tree 69 of 100\n",
      "building tree 70 of 100\n",
      "building tree 71 of 100\n",
      "building tree 72 of 100\n",
      "building tree 73 of 100\n",
      "building tree 74 of 100\n",
      "building tree 75 of 100\n",
      "building tree 76 of 100\n",
      "building tree 77 of 100\n",
      "building tree 78 of 100\n",
      "building tree 79 of 100\n",
      "building tree 80 of 100\n",
      "building tree 81 of 100\n",
      "building tree 82 of 100\n",
      "building tree 83 of 100\n",
      "building tree 84 of 100\n",
      "building tree 85 of 100\n",
      "building tree 86 of 100\n",
      "building tree 87 of 100\n",
      "building tree 88 of 100\n",
      "building tree 89 of 100\n",
      "building tree 90 of 100\n",
      "building tree 91 of 100\n",
      "building tree 92 of 100\n",
      "building tree 93 of 100\n",
      "building tree 94 of 100\n",
      "building tree 95 of 100\n",
      "building tree 96 of 100\n",
      "building tree 97 of 100\n",
      "building tree 98 of 100\n",
      "building tree 99 of 100\n",
      "building tree 100 of 100\n"
     ]
    },
    {
     "name": "stderr",
     "output_type": "stream",
     "text": [
      "[Parallel(n_jobs=-1)]: Done 100 out of 100 | elapsed:   59.1s finished\n",
      "[Parallel(n_jobs=16)]: Using backend ThreadingBackend with 16 concurrent workers.\n"
     ]
    },
    {
     "name": "stdout",
     "output_type": "stream",
     "text": [
      "CPU times: user 1h 26min 16s, sys: 756 ms, total: 1h 26min 17s\n",
      "Wall time: 6min 19s\n"
     ]
    },
    {
     "name": "stderr",
     "output_type": "stream",
     "text": [
      "[Parallel(n_jobs=16)]: Done 100 out of 100 | elapsed:    1.3s finished\n"
     ]
    }
   ],
   "source": [
    "%%time\n",
    "#\n",
    "_,features = X_test_summary.shape\n",
    "accuracy_sentiment_summary = {}\n",
    "\n",
    "\n",
    "## our grid exaustive search parameters\n",
    "m_features_names = [\"2 sqrt(M)\", \"sqrt(M)\", \"log2(M)\"]\n",
    "m_features = [int(2*math.sqrt(features)), int(math.sqrt(features)), int(math.log2(features))]\n",
    "num_trees = [20,50,100]\n",
    "\n",
    "for m,m_name in zip(m_features,m_features_names):\n",
    "    accuracy_sentiment_summary[m_name] = []\n",
    "    for tr in num_trees:\n",
    "        rfc_rating = RandomForestClassifier(n_estimators=tr,max_features=m,n_jobs=-1,verbose=3, random_state=42 )\n",
    "        rfc_rating.fit(X_train_summary, y_train)\n",
    "        accuracy = rfc_rating.score(X_test_summary, y_test)\n",
    "        accuracy_sentiment_summary[m_name].append(accuracy)"
   ]
  },
  {
   "cell_type": "code",
   "execution_count": 38,
   "metadata": {},
   "outputs": [
    {
     "data": {
      "text/plain": [
       "{'2 sqrt(M)': [0.8640758542013428, 0.8710141946101625, 0.8730152793102803],\n",
       " 'log2(M)': [0.8414654672626284, 0.8431299208916984, 0.8395765929195265],\n",
       " 'sqrt(M)': [0.8543509565932935, 0.8599614744440912, 0.8613454021806213]}"
      ]
     },
     "execution_count": 38,
     "metadata": {},
     "output_type": "execute_result"
    }
   ],
   "source": [
    "accuracy_sentiment_summary"
   ]
  },
  {
   "cell_type": "markdown",
   "metadata": {},
   "source": [
    "**Maximum accuracy was found at 100 trees and m = 2sqrt(M).... Accuracy was 87.30% approx**"
   ]
  },
  {
   "cell_type": "code",
   "execution_count": 39,
   "metadata": {},
   "outputs": [
    {
     "data": {
      "text/plain": [
       "<matplotlib.legend.Legend at 0x7fc4730195f8>"
      ]
     },
     "execution_count": 39,
     "metadata": {},
     "output_type": "execute_result"
    },
    {
     "data": {
      "image/png": "[encoded data removed]",
      "text/plain": [
       "<Figure size 432x288 with 1 Axes>"
      ]
     },
     "metadata": {
      "needs_background": "light"
     },
     "output_type": "display_data"
    }
   ],
   "source": [
    "plt.plot(num_trees, accuracy_sentiment_summary['2 sqrt(M)'],label='2 x sqrt(M)')\n",
    "plt.plot(num_trees, accuracy_sentiment_summary['log2(M)'],label='log2(M')\n",
    "plt.plot(num_trees, accuracy_sentiment_summary['sqrt(M)'],label='sqrt(M)')\n",
    "plt.xlabel('Number of trees')\n",
    "plt.ylabel('Accuracy')\n",
    "plt.legend(loc='lower right')"
   ]
  },
  {
   "cell_type": "code",
   "execution_count": 40,
   "metadata": {},
   "outputs": [
    {
     "name": "stderr",
     "output_type": "stream",
     "text": [
      "/usr/local/lib/python3.5/dist-packages/matplotlib/pyplot.py:880: MatplotlibDeprecationWarning: \n",
      "Using pyplot.axes(ax) with ax an Axes argument is deprecated. Please use pyplot.sca(ax) instead.\n",
      "  message=\"Using pyplot.axes(ax) with ax an Axes \"\n"
     ]
    },
    {
     "data": {
      "image/png": "[encoded data removed]",
      "text/plain": [
       "<Figure size 432x288 with 1 Axes>"
      ]
     },
     "metadata": {
      "needs_background": "light"
     },
     "output_type": "display_data"
    }
   ],
   "source": [
    "new_list = list(accuracy_sentiment_summary.values())\n",
    "fig, ax = plt.subplots()\n",
    "index = np.arange(len(new_list[0]))\n",
    "\n",
    "p1 = ax.bar(index - 0.2, new_list[0], 0.2, label='2 x sqrt(M)')\n",
    "p2 = ax.bar(index , new_list[1], 0.2, label='sqrt(M)')\n",
    "p3 = ax.bar(index + 0.2, new_list[2], 0.2, label='log2(M)')\n",
    "\n",
    "ax.set_xticks(index + 0.2/3)\n",
    "ax.set_xticklabels(['20', '50', '100'])\n",
    "ax.set_ylim(0, 1)\n",
    "ax.set_xlabel('Number of trees')\n",
    "ax.set_ylabel('Accuracy')\n",
    "\n",
    "plt.axes(ax)\n",
    "\n",
    "plt.legend(loc='lower right')\n",
    "plt.show()"
   ]
  },
  {
   "cell_type": "markdown",
   "metadata": {},
   "source": [
    "# Naive bayes classsifier for sentiment\n",
    "- we predict semtiment on basis of review summary"
   ]
  },
  {
   "cell_type": "code",
   "execution_count": 41,
   "metadata": {},
   "outputs": [
    {
     "name": "stdout",
     "output_type": "stream",
     "text": [
      "CPU times: user 16 s, sys: 28 ms, total: 16 s\n",
      "Wall time: 16 s\n"
     ]
    }
   ],
   "source": [
    "%%time\n",
    "from sklearn.naive_bayes import MultinomialNB\n",
    "accuracy_nb_summary = {}\n",
    "\n",
    "\n",
    "## our grid exaustive search parameters\n",
    "fit_prior = [True, False]\n",
    "alpha = [0.001,0.01,0.05,0.1,0.5,1,2,3,5,10] #m-value\n",
    "\n",
    "for prior in fit_prior:\n",
    "    accuracy_nb_summary[prior] = []\n",
    "    for a in alpha:\n",
    "        nb_classifier = MultinomialNB(alpha=a, fit_prior=prior)\n",
    "        nb_classifier.fit(X_train_summary, y_train)\n",
    "        accuracy = nb_classifier.score(X_test_summary, y_test)\n",
    "        accuracy_nb_summary[prior].append(accuracy)\n"
   ]
  },
  {
   "cell_type": "code",
   "execution_count": 42,
   "metadata": {},
   "outputs": [
    {
     "data": {
      "text/plain": [
       "{False: [0.6339511136877933,\n",
       "  0.6350358138056142,\n",
       "  0.6376727571954891,\n",
       "  0.6399730695143162,\n",
       "  0.6533822071777226,\n",
       "  0.6605449683005742,\n",
       "  0.6541489779506648,\n",
       "  0.6386078435039554,\n",
       "  0.6110976043088777,\n",
       "  0.5816236838660208],\n",
       " True: [0.6637242617493595,\n",
       "  0.6621533167511361,\n",
       "  0.6575526921134821,\n",
       "  0.6533074002730452,\n",
       "  0.6315198892857811,\n",
       "  0.6127994613902863,\n",
       "  0.5888986553458885,\n",
       "  0.5760131660152232,\n",
       "  0.5653344803725384,\n",
       "  0.5583400347852107]}"
      ]
     },
     "execution_count": 42,
     "metadata": {},
     "output_type": "execute_result"
    }
   ],
   "source": [
    "accuracy_nb_summary"
   ]
  },
  {
   "cell_type": "markdown",
   "metadata": {},
   "source": [
    "**Maximum accuracy was found at fit_prior=True, alpha = 0.01.... Accuracy was 66.37% approx**"
   ]
  },
  {
   "cell_type": "code",
   "execution_count": 43,
   "metadata": {},
   "outputs": [
    {
     "data": {
      "text/plain": [
       "<matplotlib.legend.Legend at 0x7fc4a7ba4208>"
      ]
     },
     "execution_count": 43,
     "metadata": {},
     "output_type": "execute_result"
    },
    {
     "data": {
      "image/png": "[encoded data removed]",
      "text/plain": [
       "<Figure size 432x288 with 1 Axes>"
      ]
     },
     "metadata": {
      "needs_background": "light"
     },
     "output_type": "display_data"
    }
   ],
   "source": [
    "plt.plot(alpha, accuracy_nb_summary[True],label='Fit prior=True')\n",
    "plt.plot(alpha, accuracy_nb_summary[False],label='Fit prior=False')\n",
    "plt.xlabel('M-values')\n",
    "plt.ylabel('Accuracy')\n",
    "plt.legend(loc='lower right')"
   ]
  },
  {
   "cell_type": "markdown",
   "metadata": {},
   "source": [
    "## XG-boost for prediction of sentiment\n"
   ]
  },
  {
   "cell_type": "code",
   "execution_count": 44,
   "metadata": {},
   "outputs": [],
   "source": [
    "y_train = df_train.sentiment\n",
    "y_test = df_test.sentiment\n",
    "\n",
    "le = LabelEncoder()\n",
    "\n",
    "y_train = le.fit_transform(y_train)\n",
    "y_test = le.transform(y_test)\n"
   ]
  },
  {
   "cell_type": "code",
   "execution_count": 45,
   "metadata": {},
   "outputs": [
    {
     "name": "stdout",
     "output_type": "stream",
     "text": [
      "Started training model\n",
      "Accuracy for model with depth  10  is : 0.7596080118194909\n",
      "Started training model\n",
      "Accuracy for model with depth  15  is : 0.8081202895027211\n",
      "Started training model\n",
      "Accuracy for model with depth  20  is : 0.8395391894671879\n",
      "CPU times: user 45min 37s, sys: 696 ms, total: 45min 37s\n",
      "Wall time: 45min 36s\n"
     ]
    }
   ],
   "source": [
    "%%time\n",
    "\n",
    "from xgboost import XGBClassifier\n",
    "from sklearn.metrics import accuracy_score\n",
    "\n",
    "acc_list = []\n",
    "max_depth = [10,15,20]\n",
    "for md in max_depth:\n",
    "    print(\"Started training model\")\n",
    "    model = XGBClassifier(max_depth = md)\n",
    "    model.fit(X_train_summary, y_train)\n",
    "    y_pred = model.predict(X_test_summary)\n",
    "    predictions = [round(value) for value in y_pred]\n",
    "    accuracy = accuracy_score(y_test, predictions)\n",
    "    print(\"Accuracy for model with depth \",md,\" is :\",accuracy)\n",
    "    acc_list.append(accuracy)\n",
    "    "
   ]
  },
  {
   "cell_type": "markdown",
   "metadata": {},
   "source": [
    "**Max accuracy reached was at max_depth=20 , Accuracy was approx 83.95%** \n",
    "\n",
    "Training time for xg boost was quite high so we decided not to further tune the model."
   ]
  },
  {
   "cell_type": "code",
   "execution_count": 46,
   "metadata": {},
   "outputs": [
    {
     "data": {
      "text/plain": [
       "<matplotlib.legend.Legend at 0x7fc46787e668>"
      ]
     },
     "execution_count": 46,
     "metadata": {},
     "output_type": "execute_result"
    },
    {
     "data": {
      "image/png": "[encoded data removed]",
      "text/plain": [
       "<Figure size 432x288 with 1 Axes>"
      ]
     },
     "metadata": {
      "needs_background": "light"
     },
     "output_type": "display_data"
    }
   ],
   "source": [
    "#plotting graphs for xgBoost on rating prediction\n",
    "plt.plot(max_depth, acc_list,label='Test accuracy')\n",
    "plt.xlabel('max depth')\n",
    "plt.ylabel('Accuracy')\n",
    "plt.legend(loc='lower right')"
   ]
  },
  {
   "cell_type": "markdown",
   "metadata": {},
   "source": [
    "# Neural network\n",
    "- For sentiment prediction based on review summary"
   ]
  },
  {
   "cell_type": "code",
   "execution_count": 48,
   "metadata": {},
   "outputs": [
    {
     "name": "stderr",
     "output_type": "stream",
     "text": [
      "/usr/local/lib/python3.5/dist-packages/sklearn/preprocessing/_encoders.py:415: FutureWarning: The handling of integer data will change in version 0.22. Currently, the categories are determined based on the range [0, max(values)], while in the future they will be determined based on the unique values.\n",
      "If you want the future behaviour and silence this warning, you can specify \"categories='auto'\".\n",
      "In case you used a LabelEncoder before this OneHotEncoder to convert the categories to integers, then you can now use the OneHotEncoder directly.\n",
      "  warnings.warn(msg, FutureWarning)\n"
     ]
    }
   ],
   "source": [
    "#One hot encoding our output\n",
    "oe = OneHotEncoder()\n",
    "\n",
    "y_train = oe.fit_transform(y_train.reshape(-1,1))\n",
    "y_test = oe.transform(y_test.reshape(-1,1))"
   ]
  },
  {
   "cell_type": "code",
   "execution_count": 49,
   "metadata": {},
   "outputs": [
    {
     "name": "stdout",
     "output_type": "stream",
     "text": [
      "Train on 160398 samples, validate on 53471 samples\n",
      "Epoch 1/20\n",
      "160398/160398 [==============================] - 31s 195us/step - loss: 0.6437 - acc: 0.6326 - val_loss: 0.5265 - val_acc: 0.6859\n",
      "Epoch 2/20\n",
      "160398/160398 [==============================] - 31s 191us/step - loss: 0.4479 - acc: 0.7314 - val_loss: 0.4658 - val_acc: 0.7171\n",
      "Epoch 3/20\n",
      "160398/160398 [==============================] - 31s 192us/step - loss: 0.3243 - acc: 0.8549 - val_loss: 0.3801 - val_acc: 0.8582\n",
      "Epoch 4/20\n",
      "160398/160398 [==============================] - 31s 192us/step - loss: 0.2295 - acc: 0.9104 - val_loss: 0.3708 - val_acc: 0.8754\n",
      "Epoch 5/20\n",
      "160398/160398 [==============================] - 30s 190us/step - loss: 0.1732 - acc: 0.9337 - val_loss: 0.3651 - val_acc: 0.8839\n",
      "Epoch 6/20\n",
      "160398/160398 [==============================] - 30s 189us/step - loss: 0.1470 - acc: 0.9440 - val_loss: 0.3690 - val_acc: 0.8805\n",
      "Epoch 7/20\n",
      "160398/160398 [==============================] - 30s 190us/step - loss: 0.1239 - acc: 0.9541 - val_loss: 0.3843 - val_acc: 0.8935\n",
      "Epoch 8/20\n",
      "160398/160398 [==============================] - 30s 189us/step - loss: 0.1089 - acc: 0.9600 - val_loss: 0.3707 - val_acc: 0.8976\n",
      "Epoch 9/20\n",
      "160398/160398 [==============================] - 30s 186us/step - loss: 0.0971 - acc: 0.9639 - val_loss: 0.3916 - val_acc: 0.8991\n",
      "Epoch 10/20\n",
      "160398/160398 [==============================] - 30s 186us/step - loss: 0.0878 - acc: 0.9671 - val_loss: 0.3886 - val_acc: 0.9000\n",
      "Epoch 11/20\n",
      "160398/160398 [==============================] - 30s 185us/step - loss: 0.0814 - acc: 0.9704 - val_loss: 0.3831 - val_acc: 0.8999\n",
      "Epoch 12/20\n",
      "160398/160398 [==============================] - 30s 185us/step - loss: 0.0748 - acc: 0.9727 - val_loss: 0.4036 - val_acc: 0.9031\n",
      "Epoch 13/20\n",
      "160398/160398 [==============================] - 30s 185us/step - loss: 0.0725 - acc: 0.9735 - val_loss: 0.3822 - val_acc: 0.9031\n",
      "Epoch 14/20\n",
      "160398/160398 [==============================] - 30s 184us/step - loss: 0.0674 - acc: 0.9757 - val_loss: 0.4166 - val_acc: 0.9032\n",
      "Epoch 15/20\n",
      "160398/160398 [==============================] - 30s 185us/step - loss: 0.0629 - acc: 0.9771 - val_loss: 0.4016 - val_acc: 0.9036\n",
      "Epoch 16/20\n",
      "160398/160398 [==============================] - 30s 185us/step - loss: 0.0637 - acc: 0.9771 - val_loss: 0.4169 - val_acc: 0.9035\n",
      "Epoch 17/20\n",
      "160398/160398 [==============================] - 30s 184us/step - loss: 0.0600 - acc: 0.9785 - val_loss: 0.4062 - val_acc: 0.9041\n",
      "Epoch 18/20\n",
      "160398/160398 [==============================] - 30s 184us/step - loss: 0.0548 - acc: 0.9799 - val_loss: 0.4437 - val_acc: 0.9033\n",
      "Epoch 19/20\n",
      "160398/160398 [==============================] - 30s 184us/step - loss: 0.0548 - acc: 0.9807 - val_loss: 0.4236 - val_acc: 0.9035\n",
      "Epoch 20/20\n",
      "160398/160398 [==============================] - 30s 185us/step - loss: 0.0534 - acc: 0.9807 - val_loss: 0.4181 - val_acc: 0.9028\n"
     ]
    }
   ],
   "source": [
    "#define our model\n",
    "model = get_model(X_train_summary,shape=3)\n",
    "model.compile(loss='categorical_crossentropy', metrics=['acc'], optimizer=Adam(lr=0.01))\n",
    "    \n",
    "# Train our model\n",
    "keras.callbacks.LearningRateScheduler(lr_schedule)\n",
    "model_history_sentiment= model.fit(X_train_summary, y_train, epochs=20, \\\n",
    "                                   batch_size=256, validation_data=(X_test_summary, y_test))  "
   ]
  },
  {
   "cell_type": "markdown",
   "metadata": {},
   "source": [
    "**Accuracy reached with neural network, on test set for sentiment prediction was 90.28%**"
   ]
  },
  {
   "cell_type": "code",
   "execution_count": 50,
   "metadata": {},
   "outputs": [
    {
     "data": {
      "image/png": "[encoded data removed]",
      "text/plain": [
       "<Figure size 432x288 with 1 Axes>"
      ]
     },
     "metadata": {
      "needs_background": "light"
     },
     "output_type": "display_data"
    },
    {
     "data": {
      "image/png": "[encoded data removed]",
      "text/plain": [
       "<Figure size 432x288 with 1 Axes>"
      ]
     },
     "metadata": {
      "needs_background": "light"
     },
     "output_type": "display_data"
    }
   ],
   "source": [
    "#plot graphs\n",
    "# summarize history for accuracy\n",
    "plt.plot(model_history_sentiment.history['acc'])\n",
    "plt.plot(model_history_sentiment.history['val_acc'])\n",
    "plt.title('model accuracy')\n",
    "plt.ylabel('acc')\n",
    "plt.xlabel('epoch')\n",
    "plt.legend(['train', 'test'], loc='upper left')\n",
    "plt.show()\n",
    "# summarize history for loss\n",
    "plt.plot(model_history_sentiment.history['loss'])\n",
    "plt.plot(model_history_sentiment.history['val_loss'])\n",
    "plt.title('model loss')\n",
    "plt.ylabel('loss')\n",
    "plt.xlabel('epoch')\n",
    "plt.legend(['train', 'test'], loc='upper left')\n",
    "plt.show()"
   ]
  },
  {
   "cell_type": "markdown",
   "metadata": {},
   "source": [
    "## Data Exploration Analysis can be found in *exploratory_data_analysis.ipynb* file"
   ]
  },
  {
   "cell_type": "code",
   "execution_count": null,
   "metadata": {},
   "outputs": [],
   "source": []
  }
 ],
 "metadata": {
  "kernelspec": {
   "display_name": "Python 3",
   "language": "python",
   "name": "python3"
  },
  "language_info": {
   "codemirror_mode": {
    "name": "ipython",
    "version": 3
   },
   "file_extension": ".py",
   "mimetype": "text/x-python",
   "name": "python",
   "nbconvert_exporter": "python",
   "pygments_lexer": "ipython3",
   "version": "3.7.6"
  },
  "pycharm": {
   "stem_cell": {
    "cell_type": "raw",
    "metadata": {
     "collapsed": false
    },
    "source": []
   }
  }
 },
 "nbformat": 4,
 "nbformat_minor": 2
}
